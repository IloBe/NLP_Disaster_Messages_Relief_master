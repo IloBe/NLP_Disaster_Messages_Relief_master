{
 "cells": [
  {
   "cell_type": "markdown",
   "metadata": {},
   "source": [
    "# ML Pipeline Preparation\n",
    "Follow the instructions below to help you create your ML pipeline.<br>\n",
    "\n",
    "My general notes:<br>\n",
    "Have in mind, that we work on a multi-class, multi-label text classification which assigns to each message sample a set of category target labels. The messages are short and an imbalanced data distribution exists. The dataset has 19634 data points with 32 different target categories.\n",
    "\n",
    "During the disaster messages processing, the English text is tokenized, lower cased, lemmatized and the contractions are expanded. Additionally, e.g. spaces, punctuation and English stop words are removed.\n",
    "\n",
    "\n",
    "### 1. Import libraries and load data from database.\n",
    "- Import Python libraries\n",
    "- Load dataset from database with [`read_sql_table`](https://pandas.pydata.org/pandas-docs/stable/generated/pandas.read_sql_table.html)\n",
    "- Define feature and target variables X and Y"
   ]
  },
  {
   "cell_type": "code",
   "execution_count": 60,
   "metadata": {},
   "outputs": [
    {
     "name": "stderr",
     "output_type": "stream",
     "text": [
      "[nltk_data] Downloading package punkt to\n",
      "[nltk_data]     C:\\Users\\Ilona\\AppData\\Roaming\\nltk_data...\n",
      "[nltk_data]   Package punkt is already up-to-date!\n",
      "[nltk_data] Downloading package wordnet to\n",
      "[nltk_data]     C:\\Users\\Ilona\\AppData\\Roaming\\nltk_data...\n",
      "[nltk_data]   Package wordnet is already up-to-date!\n",
      "[nltk_data] Downloading package stopwords to\n",
      "[nltk_data]     C:\\Users\\Ilona\\AppData\\Roaming\\nltk_data...\n",
      "[nltk_data]   Package stopwords is already up-to-date!\n",
      "C:\\anaconda\\anaconda3\\lib\\site-packages\\ipykernel_launcher.py:37: UserWarning: once\n"
     ]
    }
   ],
   "source": [
    "#\n",
    "# import libraries\n",
    "#\n",
    "\n",
    "# download necessary NLTK data\n",
    "#%pip install nltk\n",
    "import nltk\n",
    "nltk.download(['punkt', 'wordnet', 'stopwords'])\n",
    "\n",
    "import random as rn\n",
    "import numpy as np\n",
    "import pandas as pd\n",
    "import string\n",
    "import pickle\n",
    "from sqlalchemy import create_engine\n",
    "\n",
    "import re\n",
    "from nltk.tokenize import word_tokenize\n",
    "from nltk.corpus import stopwords\n",
    "from nltk.stem.wordnet import WordNetLemmatizer\n",
    "\n",
    "#%pip install bs4\n",
    "from bs4 import BeautifulSoup\n",
    "\n",
    "from sklearn.pipeline import Pipeline, FeatureUnion\n",
    "from sklearn.decomposition import TruncatedSVD\n",
    "from sklearn.preprocessing import Normalizer\n",
    "from sklearn.feature_extraction.text import CountVectorizer, TfidfTransformer, TfidfVectorizer\n",
    "from sklearn.multioutput import MultiOutputClassifier\n",
    "from sklearn.ensemble import RandomForestClassifier\n",
    "from sklearn.neighbors import KNeighborsClassifier, RadiusNeighborsClassifier \n",
    "from sklearn.model_selection import train_test_split, GridSearchCV, RandomizedSearchCV\n",
    "from sklearn.metrics import accuracy_score, classification_report\n",
    "\n",
    "# warnings status to show\n",
    "import warnings\n",
    "warnings.warn(\"once\")"
   ]
  },
  {
   "cell_type": "markdown",
   "metadata": {},
   "source": [
    "Make the code reproducible ..."
   ]
  },
  {
   "cell_type": "code",
   "execution_count": 3,
   "metadata": {},
   "outputs": [],
   "source": [
    "FIXED_SEED = 42\n",
    "\n",
    "# The below is necessary for starting NumPy generated random numbers in a well-defined initial state.\n",
    "np.random.seed(FIXED_SEED)\n",
    "\n",
    "# The below is necessary for starting core Python generated random numbers in a well-defined state.\n",
    "rn.seed(FIXED_SEED)"
   ]
  },
  {
   "cell_type": "code",
   "execution_count": 4,
   "metadata": {},
   "outputs": [
    {
     "name": "stdout",
     "output_type": "stream",
     "text": [
      "The dataset has 19634 data points with 40 variables each.\n"
     ]
    }
   ],
   "source": [
    "# load data from database\n",
    "try:\n",
    "    engine = create_engine('sqlite:///Disaster_Messages_engine.db')\n",
    "    df = pd.read_sql_table('Messages_Categories_table', engine)\n",
    "    \n",
    "    # success\n",
    "    print(\"The dataset has {} data points with {} variables each.\".format(*df.shape))\n",
    "except:\n",
    "    print(\"The database 'Disaster_Messages_engine.db' could not be loaded. No ML pipeline activities possible.\")"
   ]
  },
  {
   "cell_type": "code",
   "execution_count": 5,
   "metadata": {},
   "outputs": [
    {
     "data": {
      "text/html": [
       "<div>\n",
       "<style scoped>\n",
       "    .dataframe tbody tr th:only-of-type {\n",
       "        vertical-align: middle;\n",
       "    }\n",
       "\n",
       "    .dataframe tbody tr th {\n",
       "        vertical-align: top;\n",
       "    }\n",
       "\n",
       "    .dataframe thead th {\n",
       "        text-align: right;\n",
       "    }\n",
       "</style>\n",
       "<table border=\"1\" class=\"dataframe\">\n",
       "  <thead>\n",
       "    <tr style=\"text-align: right;\">\n",
       "      <th></th>\n",
       "      <th>message</th>\n",
       "      <th>original</th>\n",
       "      <th>genre</th>\n",
       "      <th>lang_code</th>\n",
       "      <th>related</th>\n",
       "      <th>request</th>\n",
       "      <th>offer</th>\n",
       "      <th>aid_related</th>\n",
       "      <th>medical_help</th>\n",
       "      <th>medical_products</th>\n",
       "      <th>...</th>\n",
       "      <th>aid_centers</th>\n",
       "      <th>other_infrastructure</th>\n",
       "      <th>weather_related</th>\n",
       "      <th>floods</th>\n",
       "      <th>storm</th>\n",
       "      <th>fire</th>\n",
       "      <th>earthquake</th>\n",
       "      <th>cold</th>\n",
       "      <th>other_weather</th>\n",
       "      <th>direct_report</th>\n",
       "    </tr>\n",
       "  </thead>\n",
       "  <tbody>\n",
       "    <tr>\n",
       "      <th>0</th>\n",
       "      <td>Weather update - a cold front from Cuba that c...</td>\n",
       "      <td>Un front froid se retrouve sur Cuba ce matin. ...</td>\n",
       "      <td>direct</td>\n",
       "      <td>en</td>\n",
       "      <td>1</td>\n",
       "      <td>0</td>\n",
       "      <td>0</td>\n",
       "      <td>0</td>\n",
       "      <td>0</td>\n",
       "      <td>0</td>\n",
       "      <td>...</td>\n",
       "      <td>0</td>\n",
       "      <td>0</td>\n",
       "      <td>0</td>\n",
       "      <td>0</td>\n",
       "      <td>0</td>\n",
       "      <td>0</td>\n",
       "      <td>0</td>\n",
       "      <td>0</td>\n",
       "      <td>0</td>\n",
       "      <td>0</td>\n",
       "    </tr>\n",
       "    <tr>\n",
       "      <th>1</th>\n",
       "      <td>Is the Hurricane over or is it not over</td>\n",
       "      <td>Cyclone nan fini osinon li pa fini</td>\n",
       "      <td>direct</td>\n",
       "      <td>en</td>\n",
       "      <td>1</td>\n",
       "      <td>0</td>\n",
       "      <td>0</td>\n",
       "      <td>1</td>\n",
       "      <td>0</td>\n",
       "      <td>0</td>\n",
       "      <td>...</td>\n",
       "      <td>0</td>\n",
       "      <td>0</td>\n",
       "      <td>1</td>\n",
       "      <td>0</td>\n",
       "      <td>1</td>\n",
       "      <td>0</td>\n",
       "      <td>0</td>\n",
       "      <td>0</td>\n",
       "      <td>0</td>\n",
       "      <td>0</td>\n",
       "    </tr>\n",
       "    <tr>\n",
       "      <th>2</th>\n",
       "      <td>UN reports Leogane 80-90 destroyed. Only Hospi...</td>\n",
       "      <td>UN reports Leogane 80-90 destroyed. Only Hospi...</td>\n",
       "      <td>direct</td>\n",
       "      <td>en</td>\n",
       "      <td>1</td>\n",
       "      <td>1</td>\n",
       "      <td>0</td>\n",
       "      <td>1</td>\n",
       "      <td>0</td>\n",
       "      <td>1</td>\n",
       "      <td>...</td>\n",
       "      <td>0</td>\n",
       "      <td>0</td>\n",
       "      <td>0</td>\n",
       "      <td>0</td>\n",
       "      <td>0</td>\n",
       "      <td>0</td>\n",
       "      <td>0</td>\n",
       "      <td>0</td>\n",
       "      <td>0</td>\n",
       "      <td>0</td>\n",
       "    </tr>\n",
       "    <tr>\n",
       "      <th>3</th>\n",
       "      <td>says: west side of Haiti, rest of the country ...</td>\n",
       "      <td>facade ouest d Haiti et le reste du pays aujou...</td>\n",
       "      <td>direct</td>\n",
       "      <td>en</td>\n",
       "      <td>1</td>\n",
       "      <td>0</td>\n",
       "      <td>0</td>\n",
       "      <td>0</td>\n",
       "      <td>0</td>\n",
       "      <td>0</td>\n",
       "      <td>...</td>\n",
       "      <td>0</td>\n",
       "      <td>0</td>\n",
       "      <td>0</td>\n",
       "      <td>0</td>\n",
       "      <td>0</td>\n",
       "      <td>0</td>\n",
       "      <td>0</td>\n",
       "      <td>0</td>\n",
       "      <td>0</td>\n",
       "      <td>0</td>\n",
       "    </tr>\n",
       "    <tr>\n",
       "      <th>4</th>\n",
       "      <td>Storm at sacred heart of jesus</td>\n",
       "      <td>Cyclone Coeur sacr de jesus</td>\n",
       "      <td>direct</td>\n",
       "      <td>en</td>\n",
       "      <td>1</td>\n",
       "      <td>0</td>\n",
       "      <td>0</td>\n",
       "      <td>0</td>\n",
       "      <td>0</td>\n",
       "      <td>0</td>\n",
       "      <td>...</td>\n",
       "      <td>0</td>\n",
       "      <td>0</td>\n",
       "      <td>1</td>\n",
       "      <td>0</td>\n",
       "      <td>1</td>\n",
       "      <td>0</td>\n",
       "      <td>0</td>\n",
       "      <td>0</td>\n",
       "      <td>0</td>\n",
       "      <td>0</td>\n",
       "    </tr>\n",
       "  </tbody>\n",
       "</table>\n",
       "<p>5 rows × 40 columns</p>\n",
       "</div>"
      ],
      "text/plain": [
       "                                             message  \\\n",
       "0  Weather update - a cold front from Cuba that c...   \n",
       "1            Is the Hurricane over or is it not over   \n",
       "2  UN reports Leogane 80-90 destroyed. Only Hospi...   \n",
       "3  says: west side of Haiti, rest of the country ...   \n",
       "4                     Storm at sacred heart of jesus   \n",
       "\n",
       "                                            original   genre lang_code  \\\n",
       "0  Un front froid se retrouve sur Cuba ce matin. ...  direct        en   \n",
       "1                 Cyclone nan fini osinon li pa fini  direct        en   \n",
       "2  UN reports Leogane 80-90 destroyed. Only Hospi...  direct        en   \n",
       "3  facade ouest d Haiti et le reste du pays aujou...  direct        en   \n",
       "4                        Cyclone Coeur sacr de jesus  direct        en   \n",
       "\n",
       "   related  request  offer  aid_related  medical_help  medical_products  ...  \\\n",
       "0        1        0      0            0             0                 0  ...   \n",
       "1        1        0      0            1             0                 0  ...   \n",
       "2        1        1      0            1             0                 1  ...   \n",
       "3        1        0      0            0             0                 0  ...   \n",
       "4        1        0      0            0             0                 0  ...   \n",
       "\n",
       "   aid_centers  other_infrastructure  weather_related  floods  storm  fire  \\\n",
       "0            0                     0                0       0      0     0   \n",
       "1            0                     0                1       0      1     0   \n",
       "2            0                     0                0       0      0     0   \n",
       "3            0                     0                0       0      0     0   \n",
       "4            0                     0                1       0      1     0   \n",
       "\n",
       "   earthquake  cold  other_weather  direct_report  \n",
       "0           0     0              0              0  \n",
       "1           0     0              0              0  \n",
       "2           0     0              0              0  \n",
       "3           0     0              0              0  \n",
       "4           0     0              0              0  \n",
       "\n",
       "[5 rows x 40 columns]"
      ]
     },
     "execution_count": 5,
     "metadata": {},
     "output_type": "execute_result"
    }
   ],
   "source": [
    "df.head()"
   ]
  },
  {
   "cell_type": "code",
   "execution_count": 6,
   "metadata": {},
   "outputs": [],
   "source": [
    "# create input (X) and output (y) samples, we know that related is always one ...\n",
    "# as input we have to take care about the messages\n",
    "# the categories are the targets of the multi-class, multi-label classification\n",
    "X = df['message']\n",
    "y = df[df.columns[4:]]\n",
    "TARGET_NAMES = y.columns"
   ]
  },
  {
   "cell_type": "code",
   "execution_count": 7,
   "metadata": {},
   "outputs": [
    {
     "name": "stdout",
     "output_type": "stream",
     "text": [
      "X datatype: <class 'pandas.core.series.Series'>\n",
      "y datatype: <class 'pandas.core.frame.DataFrame'>\n"
     ]
    }
   ],
   "source": [
    "print(\"X datatype: {}\".format(type(X)))\n",
    "print(\"y datatype: {}\".format(type(y)))"
   ]
  },
  {
   "cell_type": "code",
   "execution_count": 8,
   "metadata": {},
   "outputs": [
    {
     "data": {
      "text/plain": [
       "0    Weather update - a cold front from Cuba that c...\n",
       "1              Is the Hurricane over or is it not over\n",
       "Name: message, dtype: object"
      ]
     },
     "execution_count": 8,
     "metadata": {},
     "output_type": "execute_result"
    }
   ],
   "source": [
    "X.head(2)"
   ]
  },
  {
   "cell_type": "code",
   "execution_count": 9,
   "metadata": {},
   "outputs": [
    {
     "data": {
      "text/html": [
       "<div>\n",
       "<style scoped>\n",
       "    .dataframe tbody tr th:only-of-type {\n",
       "        vertical-align: middle;\n",
       "    }\n",
       "\n",
       "    .dataframe tbody tr th {\n",
       "        vertical-align: top;\n",
       "    }\n",
       "\n",
       "    .dataframe thead th {\n",
       "        text-align: right;\n",
       "    }\n",
       "</style>\n",
       "<table border=\"1\" class=\"dataframe\">\n",
       "  <thead>\n",
       "    <tr style=\"text-align: right;\">\n",
       "      <th></th>\n",
       "      <th>related</th>\n",
       "      <th>request</th>\n",
       "      <th>offer</th>\n",
       "      <th>aid_related</th>\n",
       "      <th>medical_help</th>\n",
       "      <th>medical_products</th>\n",
       "      <th>search_and_rescue</th>\n",
       "      <th>security</th>\n",
       "      <th>military</th>\n",
       "      <th>child_alone</th>\n",
       "      <th>...</th>\n",
       "      <th>aid_centers</th>\n",
       "      <th>other_infrastructure</th>\n",
       "      <th>weather_related</th>\n",
       "      <th>floods</th>\n",
       "      <th>storm</th>\n",
       "      <th>fire</th>\n",
       "      <th>earthquake</th>\n",
       "      <th>cold</th>\n",
       "      <th>other_weather</th>\n",
       "      <th>direct_report</th>\n",
       "    </tr>\n",
       "  </thead>\n",
       "  <tbody>\n",
       "    <tr>\n",
       "      <th>0</th>\n",
       "      <td>1</td>\n",
       "      <td>0</td>\n",
       "      <td>0</td>\n",
       "      <td>0</td>\n",
       "      <td>0</td>\n",
       "      <td>0</td>\n",
       "      <td>0</td>\n",
       "      <td>0</td>\n",
       "      <td>0</td>\n",
       "      <td>0</td>\n",
       "      <td>...</td>\n",
       "      <td>0</td>\n",
       "      <td>0</td>\n",
       "      <td>0</td>\n",
       "      <td>0</td>\n",
       "      <td>0</td>\n",
       "      <td>0</td>\n",
       "      <td>0</td>\n",
       "      <td>0</td>\n",
       "      <td>0</td>\n",
       "      <td>0</td>\n",
       "    </tr>\n",
       "    <tr>\n",
       "      <th>1</th>\n",
       "      <td>1</td>\n",
       "      <td>0</td>\n",
       "      <td>0</td>\n",
       "      <td>1</td>\n",
       "      <td>0</td>\n",
       "      <td>0</td>\n",
       "      <td>0</td>\n",
       "      <td>0</td>\n",
       "      <td>0</td>\n",
       "      <td>0</td>\n",
       "      <td>...</td>\n",
       "      <td>0</td>\n",
       "      <td>0</td>\n",
       "      <td>1</td>\n",
       "      <td>0</td>\n",
       "      <td>1</td>\n",
       "      <td>0</td>\n",
       "      <td>0</td>\n",
       "      <td>0</td>\n",
       "      <td>0</td>\n",
       "      <td>0</td>\n",
       "    </tr>\n",
       "    <tr>\n",
       "      <th>2</th>\n",
       "      <td>1</td>\n",
       "      <td>1</td>\n",
       "      <td>0</td>\n",
       "      <td>1</td>\n",
       "      <td>0</td>\n",
       "      <td>1</td>\n",
       "      <td>0</td>\n",
       "      <td>0</td>\n",
       "      <td>0</td>\n",
       "      <td>0</td>\n",
       "      <td>...</td>\n",
       "      <td>0</td>\n",
       "      <td>0</td>\n",
       "      <td>0</td>\n",
       "      <td>0</td>\n",
       "      <td>0</td>\n",
       "      <td>0</td>\n",
       "      <td>0</td>\n",
       "      <td>0</td>\n",
       "      <td>0</td>\n",
       "      <td>0</td>\n",
       "    </tr>\n",
       "    <tr>\n",
       "      <th>3</th>\n",
       "      <td>1</td>\n",
       "      <td>0</td>\n",
       "      <td>0</td>\n",
       "      <td>0</td>\n",
       "      <td>0</td>\n",
       "      <td>0</td>\n",
       "      <td>0</td>\n",
       "      <td>0</td>\n",
       "      <td>0</td>\n",
       "      <td>0</td>\n",
       "      <td>...</td>\n",
       "      <td>0</td>\n",
       "      <td>0</td>\n",
       "      <td>0</td>\n",
       "      <td>0</td>\n",
       "      <td>0</td>\n",
       "      <td>0</td>\n",
       "      <td>0</td>\n",
       "      <td>0</td>\n",
       "      <td>0</td>\n",
       "      <td>0</td>\n",
       "    </tr>\n",
       "    <tr>\n",
       "      <th>4</th>\n",
       "      <td>1</td>\n",
       "      <td>0</td>\n",
       "      <td>0</td>\n",
       "      <td>0</td>\n",
       "      <td>0</td>\n",
       "      <td>0</td>\n",
       "      <td>0</td>\n",
       "      <td>0</td>\n",
       "      <td>0</td>\n",
       "      <td>0</td>\n",
       "      <td>...</td>\n",
       "      <td>0</td>\n",
       "      <td>0</td>\n",
       "      <td>1</td>\n",
       "      <td>0</td>\n",
       "      <td>1</td>\n",
       "      <td>0</td>\n",
       "      <td>0</td>\n",
       "      <td>0</td>\n",
       "      <td>0</td>\n",
       "      <td>0</td>\n",
       "    </tr>\n",
       "  </tbody>\n",
       "</table>\n",
       "<p>5 rows × 36 columns</p>\n",
       "</div>"
      ],
      "text/plain": [
       "   related  request  offer  aid_related  medical_help  medical_products  \\\n",
       "0        1        0      0            0             0                 0   \n",
       "1        1        0      0            1             0                 0   \n",
       "2        1        1      0            1             0                 1   \n",
       "3        1        0      0            0             0                 0   \n",
       "4        1        0      0            0             0                 0   \n",
       "\n",
       "   search_and_rescue  security  military  child_alone  ...  aid_centers  \\\n",
       "0                  0         0         0            0  ...            0   \n",
       "1                  0         0         0            0  ...            0   \n",
       "2                  0         0         0            0  ...            0   \n",
       "3                  0         0         0            0  ...            0   \n",
       "4                  0         0         0            0  ...            0   \n",
       "\n",
       "   other_infrastructure  weather_related  floods  storm  fire  earthquake  \\\n",
       "0                     0                0       0      0     0           0   \n",
       "1                     0                1       0      1     0           0   \n",
       "2                     0                0       0      0     0           0   \n",
       "3                     0                0       0      0     0           0   \n",
       "4                     0                1       0      1     0           0   \n",
       "\n",
       "   cold  other_weather  direct_report  \n",
       "0     0              0              0  \n",
       "1     0              0              0  \n",
       "2     0              0              0  \n",
       "3     0              0              0  \n",
       "4     0              0              0  \n",
       "\n",
       "[5 rows x 36 columns]"
      ]
     },
     "execution_count": 9,
     "metadata": {},
     "output_type": "execute_result"
    }
   ],
   "source": [
    "y.head()"
   ]
  },
  {
   "cell_type": "code",
   "execution_count": 10,
   "metadata": {},
   "outputs": [
    {
     "data": {
      "text/plain": [
       "array([[1, 0, 0, 0, 0, 0, 0, 0, 0, 0, 0, 0, 0, 0, 0, 0, 0, 0, 0, 0, 0, 0,\n",
       "        0, 0, 0, 0, 0, 0, 0, 0, 0, 0, 0, 0, 0, 0],\n",
       "       [1, 0, 0, 1, 0, 0, 0, 0, 0, 0, 0, 0, 0, 0, 0, 0, 0, 0, 1, 0, 0, 0,\n",
       "        0, 0, 0, 0, 0, 0, 1, 0, 1, 0, 0, 0, 0, 0],\n",
       "       [1, 1, 0, 1, 0, 1, 0, 0, 0, 0, 0, 0, 0, 0, 0, 0, 0, 0, 1, 1, 0, 1,\n",
       "        0, 0, 1, 0, 0, 0, 0, 0, 0, 0, 0, 0, 0, 0],\n",
       "       [1, 0, 0, 0, 0, 0, 0, 0, 0, 0, 0, 0, 0, 0, 0, 0, 0, 0, 0, 0, 0, 0,\n",
       "        0, 0, 0, 0, 0, 0, 0, 0, 0, 0, 0, 0, 0, 0],\n",
       "       [1, 0, 0, 0, 0, 0, 0, 0, 0, 0, 0, 0, 0, 0, 0, 0, 0, 0, 0, 0, 0, 0,\n",
       "        0, 0, 0, 0, 0, 0, 1, 0, 1, 0, 0, 0, 0, 0]], dtype=int64)"
      ]
     },
     "execution_count": 10,
     "metadata": {},
     "output_type": "execute_result"
    }
   ],
   "source": [
    "y.iloc[0:5,:].values"
   ]
  },
  {
   "cell_type": "code",
   "execution_count": 11,
   "metadata": {},
   "outputs": [
    {
     "name": "stdout",
     "output_type": "stream",
     "text": [
      "'related' includes 19634 x value 1.\n",
      "'request' includes 4374 x value 1.\n",
      "'offer' includes 117 x value 1.\n",
      "'aid_related' includes 10729 x value 1.\n",
      "'medical_help' includes 2066 x value 1.\n",
      "'medical_products' includes 1297 x value 1.\n",
      "'search_and_rescue' includes 718 x value 1.\n",
      "'security' includes 467 x value 1.\n",
      "'military' includes 857 x value 1.\n",
      "'child_alone' includes 0 x value 1.\n",
      "'water' includes 1650 x value 1.\n",
      "'food' includes 2885 x value 1.\n",
      "'shelter' includes 2281 x value 1.\n",
      "'clothing' includes 401 x value 1.\n",
      "'money' includes 598 x value 1.\n",
      "'missing_people' includes 297 x value 1.\n",
      "'refugees' includes 872 x value 1.\n",
      "'death' includes 1187 x value 1.\n",
      "'other_aid' includes 3392 x value 1.\n",
      "'infrastructure_related' includes 1688 x value 1.\n",
      "'transport' includes 1197 x value 1.\n",
      "'buildings' includes 1313 x value 1.\n",
      "'electricity' includes 528 x value 1.\n",
      "'tools' includes 158 x value 1.\n",
      "'hospitals' includes 283 x value 1.\n",
      "'shops' includes 118 x value 1.\n",
      "'aid_centers' includes 308 x value 1.\n",
      "'other_infrastructure' includes 1136 x value 1.\n",
      "'weather_related' includes 7212 x value 1.\n",
      "'floods' includes 2130 x value 1.\n",
      "'storm' includes 2420 x value 1.\n",
      "'fire' includes 282 x value 1.\n",
      "'earthquake' includes 2422 x value 1.\n",
      "'cold' includes 528 x value 1.\n",
      "'other_weather' includes 1366 x value 1.\n",
      "'direct_report' includes 4965 x value 1.\n"
     ]
    }
   ],
   "source": [
    "for group in y.columns:\n",
    "    print(\"'{}' includes {} x value 1.\".format(group, y[group].sum()))"
   ]
  },
  {
   "cell_type": "markdown",
   "metadata": {},
   "source": [
    "### 2. Write a tokenization function to process your text data\n",
    "\n",
    "During EPL pipeline activities we realised that there are messages which are not useful (e.g. 'nonsense' character sequences, html characters) and there are probably web links included. We have to deal with this in the tokenize() function."
   ]
  },
  {
   "cell_type": "code",
   "execution_count": 12,
   "metadata": {},
   "outputs": [],
   "source": [
    "CONTRACTION_MAP = {\n",
    "    \"ain't\": \"is not\",\n",
    "    \"aren't\": \"are not\",\n",
    "    \"can't\": \"cannot\",\n",
    "    \"can't've\": \"cannot have\",\n",
    "    \"'cause\": \"because\",\n",
    "    \"could've\": \"could have\",\n",
    "    \"couldn't\": \"could not\",\n",
    "    \"couldn't've\": \"could not have\",\n",
    "    \"didn't\": \"did not\",\n",
    "    \"doesn't\": \"does not\",\n",
    "    \"don't\": \"do not\",\n",
    "    \"hadn't\": \"had not\",\n",
    "    \"hadn't've\": \"had not have\",\n",
    "    \"hasn't\": \"has not\",\n",
    "    \"haven't\": \"have not\",\n",
    "    \"he'd\": \"he would\",\n",
    "    \"he'd've\": \"he would have\",\n",
    "    \"he'll\": \"he will\",\n",
    "    \"he'll've\": \"he he will have\",\n",
    "    \"he's\": \"he is\",\n",
    "    \"how'd\": \"how did\",\n",
    "    \"how'd'y\": \"how do you\",\n",
    "    \"how'll\": \"how will\",\n",
    "    \"how's\": \"how is\",\n",
    "    \"I'd\": \"I would\",\n",
    "    \"I'd've\": \"I would have\",\n",
    "    \"I'll\": \"I will\",\n",
    "    \"I'll've\": \"I will have\",\n",
    "    \"I'm\": \"I am\",\n",
    "    \"I've\": \"I have\",\n",
    "    \"i'd\": \"i would\",\n",
    "    \"i'd've\": \"i would have\",\n",
    "    \"i'll\": \"i will\",\n",
    "    \"i'll've\": \"i will have\",\n",
    "    \"i'm\": \"i am\",\n",
    "    \"i've\": \"i have\",\n",
    "    \"isn't\": \"is not\",\n",
    "    \"it'd\": \"it would\",\n",
    "    \"it'd've\": \"it would have\",\n",
    "    \"it'll\": \"it will\",\n",
    "    \"it'll've\": \"it will have\",\n",
    "    \"it's\": \"it is\",\n",
    "    \"let's\": \"let us\",\n",
    "    \"ma'am\": \"madam\",\n",
    "    \"mayn't\": \"may not\",\n",
    "    \"might've\": \"might have\",\n",
    "    \"mightn't\": \"might not\",\n",
    "    \"mightn't've\": \"might not have\",\n",
    "    \"must've\": \"must have\",\n",
    "    \"mustn't\": \"must not\",\n",
    "    \"mustn't've\": \"must not have\",\n",
    "    \"needn't\": \"need not\",\n",
    "    \"needn't've\": \"need not have\",\n",
    "    \"o'clock\": \"of the clock\",\n",
    "    \"oughtn't\": \"ought not\",\n",
    "    \"oughtn't've\": \"ought not have\",\n",
    "    \"shan't\": \"shall not\",\n",
    "    \"sha'n't\": \"shall not\",\n",
    "    \"shan't've\": \"shall not have\",\n",
    "    \"she'd\": \"she would\",\n",
    "    \"she'd've\": \"she would have\",\n",
    "    \"she'll\": \"she will\",\n",
    "    \"she'll've\": \"she will have\",\n",
    "    \"she's\": \"she is\",\n",
    "    \"should've\": \"should have\",\n",
    "    \"shouldn't\": \"should not\",\n",
    "    \"shouldn't've\": \"should not have\",\n",
    "    \"so've\": \"so have\",\n",
    "    \"so's\": \"so as\",\n",
    "    \"that'd\": \"that would\",\n",
    "    \"that'd've\": \"that would have\",\n",
    "    \"that's\": \"that is\",\n",
    "    \"there'd\": \"there would\",\n",
    "    \"there'd've\": \"there would have\",\n",
    "    \"there's\": \"there is\",\n",
    "    \"they'd\": \"they would\",\n",
    "    \"they'd've\": \"they would have\",\n",
    "    \"they'll\": \"they will\",\n",
    "    \"they'll've\": \"they will have\",\n",
    "    \"they're\": \"they are\",\n",
    "    \"they've\": \"they have\",\n",
    "    \"to've\": \"to have\",\n",
    "    \"wasn't\": \"was not\",\n",
    "    \"we'd\": \"we would\",\n",
    "    \"we'd've\": \"we would have\",\n",
    "    \"we'll\": \"we will\",\n",
    "    \"we'll've\": \"we will have\",\n",
    "    \"we're\": \"we are\",\n",
    "    \"we've\": \"we have\",\n",
    "    \"weren't\": \"were not\",\n",
    "    \"what'll\": \"what will\",\n",
    "    \"what'll've\": \"what will have\",\n",
    "    \"what're\": \"what are\",\n",
    "    \"what's\": \"what is\",\n",
    "    \"what've\": \"what have\",\n",
    "    \"when's\": \"when is\",\n",
    "    \"when've\": \"when have\",\n",
    "    \"where'd\": \"where did\",\n",
    "    \"where's\": \"where is\",\n",
    "    \"where've\": \"where have\",\n",
    "    \"who'll\": \"who will\",\n",
    "    \"who'll've\": \"who will have\",\n",
    "    \"who's\": \"who is\",\n",
    "    \"who've\": \"who have\",\n",
    "    \"why's\": \"why is\",\n",
    "    \"why've\": \"why have\",\n",
    "    \"will've\": \"will have\",\n",
    "    \"won't\": \"will not\",\n",
    "    \"won't've\": \"will not have\",\n",
    "    \"would've\": \"would have\",\n",
    "    \"wouldn't\": \"would not\",\n",
    "    \"wouldn't've\": \"would not have\",\n",
    "    \"y'all\": \"you all\",\n",
    "    \"y'all'd\": \"you all would\",\n",
    "    \"y'all'd've\": \"you all would have\",\n",
    "    \"y'all're\": \"you all are\",\n",
    "    \"y'all've\": \"you all have\",\n",
    "    \"you'd\": \"you would\",\n",
    "    \"you'd've\": \"you would have\",\n",
    "    \"you'll\": \"you will\",\n",
    "    \"you'll've\": \"you will have\",\n",
    "    \"you're\": \"you are\",\n",
    "    \"you've\": \"you have\"\n",
    "}"
   ]
  },
  {
   "cell_type": "code",
   "execution_count": 13,
   "metadata": {},
   "outputs": [],
   "source": [
    "# function from Dipanjan's repository:\n",
    "# https://github.com/dipanjanS/practical-machine-learning-with-python/blob/master/bonus%\\\n",
    "# 20content/nlp%20proven%20approach/NLP%20Strategy%20I%20-%20Processing%20and%20Understanding%20Text.ipynb\n",
    "\n",
    "def expand_contractions(text, contraction_mapping):\n",
    "    \n",
    "    contractions_pattern = re.compile('({})'.format('|'.join(contraction_mapping.keys())), \n",
    "                                      flags=re.IGNORECASE|re.DOTALL)\n",
    "    def expand_match(contraction):\n",
    "        match = contraction.group(0)\n",
    "        first_char = match[0]\n",
    "        expanded_contraction = contraction_mapping.get(match)\\\n",
    "                                if contraction_mapping.get(match)\\\n",
    "                                else contraction_mapping.get(match.lower())                       \n",
    "        expanded_contraction = first_char+expanded_contraction[1:]\n",
    "        return expanded_contraction\n",
    "        \n",
    "    expanded_text = contractions_pattern.sub(expand_match, text)\n",
    "    expanded_text = re.sub(\"'\", \"\", expanded_text)\n",
    "    \n",
    "    return expanded_text"
   ]
  },
  {
   "cell_type": "code",
   "execution_count": 14,
   "metadata": {},
   "outputs": [],
   "source": [
    "stop_words = set(stopwords.words('english'))\n",
    "#stop_words.remove('no')\n",
    "#stop_words.remove('not')\n",
    "\n",
    "def tokenize(text):\n",
    "    # have in mind that we use this for a web app adding new messages;\n",
    "    # if still html, xml or other undefined parts in the existing messages:\n",
    "    # first remove such metatext from English messages\n",
    "    # see: https://docs.python.org/3.7/library/codecs.html#encodings-and-unicode\n",
    "    # \"To be able to detect the endianness of a UTF-16 or UTF-32 byte sequence,\n",
    "    # there’s the so called BOM (“Byte Order Mark”). [...]\n",
    "    # In UTF-8, the use of the BOM is discouraged and should generally be avoided.\"\n",
    "    # specific ones are e.g. notepad signatures from Microsoft as part of the messages which should be avoided;\n",
    "    # other undefined characters have the coding of the 'replacement character' unicode u\"\\ufffd\"\n",
    "    soup = BeautifulSoup(text, 'html')\n",
    "    souped = soup.get_text()\n",
    "    try:\n",
    "        bom_removed = souped.decode(\"utf-8-sig\").replace(u\"\\ufffd\", \"?\")\n",
    "    except:\n",
    "        bom_removed = souped\n",
    "    \n",
    "    url_regex = 'http[s]?://(?:[a-zA-Z]|[0-9]|[$-_@.&+]|[!*\\(\\),]|(?:%[0-9a-fA-F][0-9a-fA-F]))+'       \n",
    "    detected_urls = re.findall(url_regex, bom_removed)\n",
    "    for url in detected_urls:\n",
    "        text = bom_removed.replace(url, \"urlplaceholder\")\n",
    "        \n",
    "    # change the negation wordings like don't to do not, won't to will not \n",
    "    # or other contractions like I'd to I would, I'll to I will etc. via dictionary\n",
    "    text = expand_contractions(text, CONTRACTION_MAP)\n",
    "\n",
    "    # remove punctuation [!”#$%&’()*+,-./:;<=>?@[\\]^_`{|}~]\n",
    "    text = text.translate(str.maketrans('','', string.punctuation))\n",
    "    # remove numbers\n",
    "    letters_only = re.sub(\"[^a-zA-Z]\", \" \", text)\n",
    "    # during ETL pipeline we have reduced the dataset on English messages ('en' language coding,\n",
    "    # but there can be some wrong codings\n",
    "    tokens = word_tokenize(letters_only, language='english')\n",
    "    lemmatizer = WordNetLemmatizer()  # for the lexical correctly found word stem (root)\n",
    "\n",
    "    clean_tokens = []\n",
    "    for tok in tokens:\n",
    "        # use only lower cases, remove leading and ending spaces\n",
    "        clean_tok = lemmatizer.lemmatize(tok).lower().strip()\n",
    "        # remember: there have been nonsense sentences, so, now some strings could be empty\n",
    "        # toDo: what is the correct length number to use now? Small ones are probably no relevant words ...\n",
    "        # remove English stop words\n",
    "        if (len(clean_tok) > 1) & (clean_tok not in stop_words):\n",
    "            clean_tokens.append(clean_tok)\n",
    "\n",
    "    return clean_tokens"
   ]
  },
  {
   "cell_type": "code",
   "execution_count": 15,
   "metadata": {},
   "outputs": [
    {
     "name": "stdout",
     "output_type": "stream",
     "text": [
      "This is an example of string with some punctuation signs\n"
     ]
    }
   ],
   "source": [
    "# example for unit test to remove punctuation [!”#$%&’()*+,-./:;<=>?@[\\]^_`{|}~]\n",
    "example_str = 'This [is an] example? {of} string. with.? some &punctuation &signs!!??!!'\n",
    "result = example_str.translate(str.maketrans('','', string.punctuation))\n",
    "print(result)\n",
    "# output shall be: This is an example of string with some punctuation signs"
   ]
  },
  {
   "cell_type": "code",
   "execution_count": 16,
   "metadata": {},
   "outputs": [
    {
     "name": "stdout",
     "output_type": "stream",
     "text": [
      "Weather update - a cold front from Cuba that could pass over Haiti\n",
      "['weather', 'update', 'cold', 'front', 'cuba', 'could', 'pas', 'haiti'] \n",
      "\n",
      "Is the Hurricane over or is it not over\n",
      "['hurricane'] \n",
      "\n",
      "UN reports Leogane 80-90 destroyed. Only Hospital St. Croix functioning. Needs supplies desperately.\n",
      "['un', 'report', 'leogane', 'destroyed', 'hospital', 'st', 'croix', 'functioning', 'needs', 'supply', 'desperately'] \n",
      "\n",
      "says: west side of Haiti, rest of the country today and tonight\n",
      "['say', 'west', 'side', 'haiti', 'rest', 'country', 'today', 'tonight'] \n",
      "\n",
      "Storm at sacred heart of jesus\n",
      "['storm', 'sacred', 'heart', 'jesus'] \n",
      "\n",
      "Please, we need tents and water. We are in Silo, Thank you!\n",
      "['please', 'need', 'tent', 'water', 'silo', 'thank'] \n",
      "\n",
      "I am in Croix-des-Bouquets. We have health issues. They ( workers ) are in Santo 15. ( an area in Croix-des-Bouquets )\n",
      "['croixdesbouquets', 'health', 'issue', 'worker', 'santo', 'area', 'croixdesbouquets'] \n",
      "\n",
      "There's nothing to eat and water, we starving and thirsty.\n",
      "['nothing', 'eat', 'water', 'starving', 'thirsty'] \n",
      "\n",
      "I am in Thomassin number 32, in the area named Pyron. I would like to have some water. Thank God we are fine, but we desperately need water. Thanks\n",
      "['thomassin', 'number', 'area', 'named', 'pyron', 'would', 'like', 'water', 'thank', 'god', 'fine', 'desperately', 'need', 'water', 'thanks'] \n",
      "\n",
      "Let's do it together, need food in Delma 75, in didine area\n",
      "['let', 'together', 'need', 'food', 'delma', 'didine', 'area'] \n",
      "\n"
     ]
    }
   ],
   "source": [
    "# test tokenize\n",
    "for message in X[:10]:\n",
    "    tokens = tokenize(message)\n",
    "    print(message)\n",
    "    print(tokens, '\\n')"
   ]
  },
  {
   "cell_type": "markdown",
   "metadata": {},
   "source": [
    "### 3. Build a machine learning pipeline\n",
    "Notes:\n",
    "- Regarding the class default parameters, for this Python implementation scikit-learn version 0.21.2 is used.\n",
    "- We use np.random.seed() too beside of random_state/random_seed parameters ([reason](https://stackoverflow.com/questions/47923258/random-seed-on-svm-sklearn-produces-different-results))\n",
    "- For the pipeline workflow a `FeatureUnion`instance concatenates results of multiple transformer objects\n",
    "\n",
    "Remember, we are dealing with an imbalanced dataset, therefore not all models can be used. A machine learning classifier could be more biased towards the majority class, causing bad classification of the minority class. Therefore we have to take care.\n",
    "\n",
    "This machine pipeline should take in the `message` column as input and output classification results on the other remaining 31 categories in the dataset. You may find the [MultiOutputClassifier](http://scikit-learn.org/stable/modules/generated/sklearn.multioutput.MultiOutputClassifier.html) helpful for predicting multiple target variables.\n",
    "\n",
    "According scikit-learn [documentation](https://scikit-learn.org/stable/modules/multiclass.html) we can choose only specific classifier using this meta-estimator. We start with `RandomForestClassier`.<br>"
   ]
  },
  {
   "cell_type": "code",
   "execution_count": 17,
   "metadata": {},
   "outputs": [],
   "source": [
    "pipeline = Pipeline([\n",
    "        ('features', FeatureUnion([ \n",
    "            \n",
    "            ('text_pipeline', Pipeline([\n",
    "                ('vect', CountVectorizer(tokenizer=tokenize, ngram_range=(1,2))),\n",
    "                ('tfidf', TfidfTransformer(sublinear_tf=True)),\n",
    "            ]))\n",
    "            \n",
    "        ])),\n",
    "    \n",
    "        ('clf', MultiOutputClassifier(RandomForestClassifier(n_estimators=100, class_weight='balanced',\n",
    "                                                             n_jobs=1, random_state=FIXED_SEED)))\n",
    "    ])"
   ]
  },
  {
   "cell_type": "markdown",
   "metadata": {},
   "source": [
    "### 4. Train pipeline\n",
    "- Split data into train and test sets\n",
    "- Train pipeline"
   ]
  },
  {
   "cell_type": "code",
   "execution_count": 18,
   "metadata": {},
   "outputs": [],
   "source": [
    "# shuffle is by default set on True,\n",
    "# usage of stratify param leads to stratify split technique for this imbalanced dataset,\n",
    "# having both would be a StratifiedShuffleSplit algorithm in the background,\n",
    "# but\n",
    "# stratify=y leads to a ValueError: The least populated class in y has only 1 member, which is too few.\n",
    "# The minimum number of groups for any class cannot be less than 2.\n",
    "# ToDo: clarify why => must be: stratify=y.iloc[:,1]\n",
    "# Therefore I added randomised resampling to reduce the probability of getting ValueError's during model fit()\n",
    "# and after clarification comment them out\n",
    "\n",
    "X_train, X_test, y_train, y_test = train_test_split(X.values, y.values, stratify=y.iloc[:,1],\n",
    "                                                    test_size=0.2, random_state=FIXED_SEED)"
   ]
  },
  {
   "cell_type": "code",
   "execution_count": 19,
   "metadata": {},
   "outputs": [
    {
     "data": {
      "text/plain": [
       "(15707,)"
      ]
     },
     "execution_count": 19,
     "metadata": {},
     "output_type": "execute_result"
    }
   ],
   "source": [
    "X_train.shape"
   ]
  },
  {
   "cell_type": "code",
   "execution_count": 20,
   "metadata": {},
   "outputs": [
    {
     "data": {
      "text/plain": [
       "(15707, 36)"
      ]
     },
     "execution_count": 20,
     "metadata": {},
     "output_type": "execute_result"
    }
   ],
   "source": [
    "y_train.shape"
   ]
  },
  {
   "cell_type": "code",
   "execution_count": 21,
   "metadata": {},
   "outputs": [
    {
     "name": "stdout",
     "output_type": "stream",
     "text": [
      "X_train datatype: <class 'numpy.ndarray'>\n",
      "y_train datatype: <class 'numpy.ndarray'>\n"
     ]
    }
   ],
   "source": [
    "print(\"X_train datatype: {}\".format(type(X_train)))\n",
    "print(\"y_train datatype: {}\".format(type(y_train)))"
   ]
  },
  {
   "cell_type": "code",
   "execution_count": 22,
   "metadata": {},
   "outputs": [
    {
     "name": "stdout",
     "output_type": "stream",
     "text": [
      "0. numpy.ndarray element is: [1 0 0 1 0 0 0 0 0 0 0 0 0 0 0 0 0 0 1 0 0 0 0 0 0 0 0 0 1 0 0 0 1 0 0 1]\n",
      "{0, 1}\n",
      "1. numpy.ndarray element is: [1 0 0 1 0 0 0 0 0 0 0 0 0 0 0 0 0 0 1 0 0 0 0 0 0 0 0 0 1 0 0 0 1 0 0 0]\n",
      "{0, 1}\n",
      "2. numpy.ndarray element is: [1 0 0 0 0 0 0 0 0 0 0 0 0 0 0 0 0 0 0 0 0 0 0 0 0 0 0 0 0 0 0 0 0 0 0 0]\n",
      "{0, 1}\n",
      "3. numpy.ndarray element is: [1 0 0 1 0 0 0 0 0 0 0 0 0 0 1 0 0 0 0 0 0 0 0 0 0 0 0 0 1 1 0 0 0 0 0 0]\n",
      "{0, 1}\n",
      "4. numpy.ndarray element is: [1 0 0 0 0 0 0 0 0 0 0 0 0 0 0 0 0 0 0 0 0 0 0 0 0 0 0 0 0 0 0 0 0 0 0 0]\n",
      "{0, 1}\n",
      "5. numpy.ndarray element is: [1 0 0 0 0 0 0 0 0 0 0 0 0 0 0 0 0 0 0 0 0 0 0 0 0 0 0 0 0 0 0 0 0 0 0 0]\n",
      "{0, 1}\n",
      "6. numpy.ndarray element is: [1 0 0 1 0 1 0 0 0 0 0 1 1 0 0 0 0 0 0 0 0 0 0 0 0 0 0 0 0 0 0 0 0 0 0 0]\n",
      "{0, 1}\n",
      "7. numpy.ndarray element is: [1 0 0 1 0 0 0 0 0 0 0 0 1 0 0 0 0 0 0 0 0 0 0 0 0 0 0 0 0 0 0 0 0 0 0 0]\n",
      "{0, 1}\n",
      "8. numpy.ndarray element is: [1 1 0 1 1 1 0 0 0 0 1 0 0 0 0 0 0 0 1 0 0 0 0 0 0 0 0 0 0 0 0 0 0 0 0 1]\n",
      "{0, 1}\n",
      "9. numpy.ndarray element is: [1 0 0 1 1 1 0 0 1 0 0 0 0 0 0 0 0 0 1 0 0 0 0 0 0 0 0 0 0 0 0 0 0 0 0 0]\n",
      "{0, 1}\n",
      "10. numpy.ndarray element is: [1 0 0 1 0 0 0 0 0 0 0 1 0 1 0 0 0 0 0 0 0 0 0 0 0 0 0 0 0 0 0 0 0 0 0 1]\n",
      "{0, 1}\n",
      "11. numpy.ndarray element is: [1 0 0 1 0 0 0 0 0 0 0 0 0 0 0 0 0 1 0 1 0 0 0 0 0 0 0 1 1 1 0 0 0 0 0 0]\n",
      "{0, 1}\n",
      "12. numpy.ndarray element is: [1 0 0 0 0 0 0 0 0 0 0 0 0 0 0 0 0 0 0 1 1 0 0 0 0 0 0 1 1 0 0 0 1 1 0 0]\n",
      "{0, 1}\n",
      "13. numpy.ndarray element is: [1 1 0 1 0 0 0 0 0 0 0 1 0 0 0 0 0 0 0 1 0 0 0 0 0 0 1 0 0 0 0 0 0 0 0 1]\n",
      "{0, 1}\n",
      "14. numpy.ndarray element is: [1 0 0 0 0 0 0 0 0 0 0 0 0 0 0 0 0 0 0 0 0 0 0 0 0 0 0 0 0 0 0 0 0 0 0 0]\n",
      "{0, 1}\n",
      "15. numpy.ndarray element is: [1 0 0 0 0 0 0 0 0 0 0 0 0 0 0 0 0 0 0 0 0 0 0 0 0 0 0 0 1 1 0 0 0 0 0 0]\n",
      "{0, 1}\n",
      "16. numpy.ndarray element is: [1 0 0 0 0 0 0 0 0 0 0 0 0 0 0 0 0 0 0 0 0 0 0 0 0 0 0 0 0 0 0 0 0 0 0 0]\n",
      "{0, 1}\n",
      "17. numpy.ndarray element is: [1 0 0 1 1 0 0 0 0 0 0 0 0 0 0 0 0 0 0 0 0 0 0 0 0 0 0 0 0 0 0 0 0 0 0 0]\n",
      "{0, 1}\n",
      "18. numpy.ndarray element is: [1 0 0 1 0 1 0 0 0 0 0 1 0 0 0 0 0 0 0 0 0 0 0 0 0 0 0 0 0 0 0 0 0 0 0 0]\n",
      "{0, 1}\n",
      "19. numpy.ndarray element is: [1 1 0 1 0 0 0 0 0 0 0 0 0 0 0 0 1 0 1 0 0 0 0 0 0 0 0 0 0 0 0 0 0 0 0 1]\n",
      "{0, 1}\n",
      "20. numpy.ndarray element is: [1 0 0 0 0 0 0 0 0 0 0 0 0 0 0 0 0 0 0 0 0 0 0 0 0 0 0 0 1 0 0 0 1 0 0 0]\n",
      "{0, 1}\n",
      "21. numpy.ndarray element is: [1 1 0 1 0 0 0 0 0 0 0 1 0 0 0 0 0 0 0 0 0 0 0 0 0 0 0 0 0 0 0 0 0 0 0 1]\n",
      "{0, 1}\n",
      "22. numpy.ndarray element is: [1 0 0 1 0 0 0 0 0 0 0 0 0 0 0 0 0 1 0 0 0 0 0 0 0 0 0 0 1 0 1 0 0 0 0 0]\n",
      "{0, 1}\n",
      "23. numpy.ndarray element is: [1 1 0 0 0 0 0 0 0 0 0 0 0 0 0 0 0 0 0 0 0 0 0 0 0 0 0 0 0 0 0 0 0 0 0 1]\n",
      "{0, 1}\n",
      "24. numpy.ndarray element is: [1 1 0 1 0 0 0 0 0 0 0 1 0 0 0 0 0 0 0 0 0 0 0 0 0 0 0 0 0 0 0 0 0 0 0 1]\n",
      "{0, 1}\n",
      "25. numpy.ndarray element is: [1 0 0 0 0 0 0 0 0 0 0 0 0 0 0 0 0 0 0 0 0 0 0 0 0 0 0 0 1 0 0 0 1 0 0 0]\n",
      "{0, 1}\n",
      "26. numpy.ndarray element is: [1 0 0 0 0 0 0 0 0 0 0 0 0 0 0 0 0 0 0 0 0 1 0 0 0 0 0 0 1 0 0 0 1 0 0 0]\n",
      "{0, 1}\n",
      "27. numpy.ndarray element is: [1 0 0 0 0 0 0 0 0 0 0 0 0 0 0 0 0 0 0 0 0 0 0 0 0 0 0 0 0 0 0 0 0 0 0 1]\n",
      "{0, 1}\n",
      "28. numpy.ndarray element is: [1 1 0 1 0 0 0 0 0 0 1 1 1 0 0 0 0 0 0 0 0 0 0 0 0 0 0 0 0 0 0 0 0 0 0 0]\n",
      "{0, 1}\n",
      "29. numpy.ndarray element is: [1 0 0 0 0 0 0 0 0 0 0 0 0 0 0 0 0 0 0 0 0 0 0 0 0 0 0 0 0 0 0 0 0 0 0 0]\n",
      "{0, 1}\n",
      "30. numpy.ndarray element is: [1 1 0 1 0 0 0 0 0 0 0 0 0 0 0 0 0 0 1 0 0 0 0 0 0 0 0 0 0 0 0 0 0 0 0 1]\n",
      "{0, 1}\n",
      "31. numpy.ndarray element is: [1 0 0 0 0 0 0 0 0 0 0 0 0 0 0 0 0 0 0 0 0 0 0 0 0 0 0 0 1 0 0 0 1 0 0 0]\n",
      "{0, 1}\n",
      "32. numpy.ndarray element is: [1 1 0 1 0 0 0 0 0 0 1 1 0 0 0 0 0 0 0 0 0 0 0 0 0 0 0 0 0 0 0 0 0 0 0 1]\n",
      "{0, 1}\n",
      "33. numpy.ndarray element is: [1 0 0 1 0 0 0 0 0 0 1 0 0 0 0 0 0 0 1 1 1 1 1 0 0 0 0 1 0 0 0 0 0 0 0 0]\n",
      "{0, 1}\n",
      "34. numpy.ndarray element is: [1 1 0 1 0 0 0 0 0 0 1 1 0 0 0 0 0 0 0 0 0 0 0 0 0 0 0 0 0 0 0 0 0 0 0 1]\n",
      "{0, 1}\n",
      "35. numpy.ndarray element is: [1 1 0 1 0 0 0 0 0 0 0 1 0 0 0 0 0 0 0 0 0 0 0 0 0 0 0 0 0 0 0 0 0 0 0 1]\n",
      "{0, 1}\n"
     ]
    }
   ],
   "source": [
    "for i in range(y_train.shape[1]):\n",
    "    print(\"{}. numpy.ndarray element is: {}\".format(i, y_train[i]))\n",
    "    print(set(y_train[i]))"
   ]
  },
  {
   "cell_type": "markdown",
   "metadata": {},
   "source": [
    "Now, we train the pipeline ..."
   ]
  },
  {
   "cell_type": "code",
   "execution_count": 23,
   "metadata": {},
   "outputs": [
    {
     "data": {
      "text/plain": [
       "Pipeline(memory=None,\n",
       "         steps=[('features',\n",
       "                 FeatureUnion(n_jobs=None,\n",
       "                              transformer_list=[('text_pipeline',\n",
       "                                                 Pipeline(memory=None,\n",
       "                                                          steps=[('vect',\n",
       "                                                                  CountVectorizer(analyzer='word',\n",
       "                                                                                  binary=False,\n",
       "                                                                                  decode_error='strict',\n",
       "                                                                                  dtype=<class 'numpy.int64'>,\n",
       "                                                                                  encoding='utf-8',\n",
       "                                                                                  input='content',\n",
       "                                                                                  lowercase=True,\n",
       "                                                                                  max_df=1.0,\n",
       "                                                                                  max_features=None,\n",
       "                                                                                  min_df=1,\n",
       "                                                                                  ngram_range=(1,\n",
       "                                                                                               2),\n",
       "                                                                                  preprocessor=Non...\n",
       "                 MultiOutputClassifier(estimator=RandomForestClassifier(bootstrap=True,\n",
       "                                                                        class_weight='balanced',\n",
       "                                                                        criterion='gini',\n",
       "                                                                        max_depth=None,\n",
       "                                                                        max_features='auto',\n",
       "                                                                        max_leaf_nodes=None,\n",
       "                                                                        min_impurity_decrease=0.0,\n",
       "                                                                        min_impurity_split=None,\n",
       "                                                                        min_samples_leaf=1,\n",
       "                                                                        min_samples_split=2,\n",
       "                                                                        min_weight_fraction_leaf=0.0,\n",
       "                                                                        n_estimators=100,\n",
       "                                                                        n_jobs=1,\n",
       "                                                                        oob_score=False,\n",
       "                                                                        random_state=42,\n",
       "                                                                        verbose=0,\n",
       "                                                                        warm_start=False),\n",
       "                                       n_jobs=None))],\n",
       "         verbose=False)"
      ]
     },
     "execution_count": 23,
     "metadata": {},
     "output_type": "execute_result"
    }
   ],
   "source": [
    "pipeline.fit(X_train, y_train)"
   ]
  },
  {
   "cell_type": "markdown",
   "metadata": {},
   "source": [
    "And calculate the model prediction ..."
   ]
  },
  {
   "cell_type": "code",
   "execution_count": 24,
   "metadata": {},
   "outputs": [],
   "source": [
    "y_rfc_pred = pipeline.predict(X_test)"
   ]
  },
  {
   "cell_type": "markdown",
   "metadata": {},
   "source": [
    "### 5. Test your model\n",
    "For evaluation:<br>\n",
    "Report accuracy score, f1 score, precision and recall for each output category of the dataset. You can do this by iterating through the columns and calling sklearn's `classification_report` on each, where:\n",
    "\n",
    "TP = TruePositive; FP = FalsePositive; TN = TrueNegative; FN = FalseNegative.\n",
    "\n",
    "**Accuracy Score** is a classification score. It is the number of correct predictions made divided by the total number of predictions made. In a multilabel classification task it computes subset accuracy. \n",
    "  \n",
    "Furthermore, beside accuracy, we add additional metrics to compare the model performance having an originally imbalanced dataset. Accuracy would focus too much on the majority classes. Because of this overfitting of the majority classes, its value would be too good and therefore misleading.\n",
    "\n",
    "**Precision** quantifies the binary precision. In other words, a measure of a classifiers exactness. It is a ratio of true positives (messages correctly classified to their categories)) to all positives (all messages classified to categories, irrespective of whether that was the correct classification), in other words it is the ratio of\n",
    "\n",
    "TP / (TP + FP)\n",
    "\n",
    "**Recall** tells us what proportion of messages that actually were classified to specific categories were classified by us as this categories. Means, a measure of a classifiers completeness. It is a ratio of true positives to all the correctly category classified messages that were actually disaster messages, in other words it is the ratio of\n",
    "\n",
    "TP / (TP + FN)\n",
    "\n",
    "A model's ability to precisely predict those that are correctly categoriesed disaster messages is more important than the model's ability to recall those individuals. \n",
    "\n",
    "We can use **F-beta score** as a metric that considers both precision and recall. According scikit-learn, the F-beta score is the weighted harmonic mean of precision and recall, reaching its optimal value at 1 and its worst value at 0. F – Measure is nothing but the harmonic mean of Precision and Recall.\n",
    "\n",
    "Fβ=(1 + β2)  (precision⋅recall / ((β2⋅precision) + recall))\n",
    "\n",
    "In particular, when β=0.5, more emphasis is placed on precision. And when β=1.0 recall and precision are equally important.\n",
    "\n",
    "According scikit-learn: \"The **F1 score** ... reaches its best value at 1 and worst score at 0. The relative contribution of precision and recall to the F1 score are equal. The formula for the F1 score is:\n",
    "\n",
    "F1 = 2 * (precision * recall) / (precision + recall)\n",
    "\n",
    "In the multi-class and multi-label case, this is the average of the F1 score of each class with weighting depending on the average parameter.\"\n",
    "\n",
    "From scikit-learn documentation for the classification report:<br>\n",
    "The classification_report() function returns an additional value: **Support** - the number of occurrences of each label in y_true.<br>\n",
    "The reported averages include macro average (averaging the unweighted mean per label), weighted average (averaging the support-weighted mean per label), sample average (only for multilabel classification) and micro average (averaging the total true positives, false negatives and false positives) it is only shown for multi-label or multi-class with a subset of classes because it is accuracy otherwise.\n",
    "\n",
    "Note: Having the imbalanced dataset in mind, Cohen's Kappa and Confusion Matrix are not possible because this is a multi-label classification task."
   ]
  },
  {
   "cell_type": "code",
   "execution_count": 25,
   "metadata": {},
   "outputs": [],
   "source": [
    "def display_results(target_names, y_test, y_pred, cv=None, parameters=None):\n",
    "   \n",
    "    # text summary of the overall accuracy, precision, recall, F1 score for each class   \n",
    "    print(\"\\nFirst: overall accuracy score: {:5f}\".format(accuracy_score(y_test, y_pred)))\n",
    "\n",
    "    # https://scikit-learn.org/stable/modules/generated/sklearn.metrics.classification_report.html\n",
    "    # shows F1_score, precision and recall\n",
    "    class_report = classification_report(y_test, y_pred, target_names=target_names)\n",
    "    print(\"Classification Report for each target class:\\n\", class_report)\n",
    "    \n",
    "    if cv != None:\n",
    "        print(\"\\n\\n---- Best Parameters: ----\\n\")\n",
    "        print(\"Best score: {:3f}\".format(cv.best_score_))\n",
    "        print(\"Best estimators parameters set:\")\n",
    "        best_parameters = cv.best_estimator_.get_params()\n",
    "        for param_name in sorted(parameters.keys()):\n",
    "            print(\"\\t {}: {}\".format(param_name, best_parameters[param_name]))  "
   ]
  },
  {
   "cell_type": "code",
   "execution_count": 26,
   "metadata": {},
   "outputs": [
    {
     "name": "stdout",
     "output_type": "stream",
     "text": [
      "\n",
      "First: overall accuracy score: 0.070283\n",
      "Classification Report for each target class:\n",
      "                         precision    recall  f1-score   support\n",
      "\n",
      "               related       1.00      1.00      1.00      3927\n",
      "               request       0.56      0.39      0.46       875\n",
      "                 offer       0.00      0.00      0.00        29\n",
      "           aid_related       0.58      0.70      0.63      2146\n",
      "          medical_help       0.14      0.00      0.01       386\n",
      "      medical_products       0.18      0.01      0.02       253\n",
      "     search_and_rescue       0.20      0.01      0.01       142\n",
      "              security       0.00      0.00      0.00       103\n",
      "              military       0.00      0.00      0.00       179\n",
      "           child_alone       0.00      0.00      0.00         0\n",
      "                 water       0.10      0.00      0.01       332\n",
      "                  food       0.21      0.01      0.01       553\n",
      "               shelter       0.06      0.00      0.00       456\n",
      "              clothing       0.25      0.01      0.02        85\n",
      "                 money       0.00      0.00      0.00       122\n",
      "        missing_people       0.00      0.00      0.00        68\n",
      "              refugees       0.00      0.00      0.00       174\n",
      "                 death       0.00      0.00      0.00       233\n",
      "             other_aid       0.24      0.01      0.02       696\n",
      "infrastructure_related       0.00      0.00      0.00       341\n",
      "             transport       0.00      0.00      0.00       222\n",
      "             buildings       0.00      0.00      0.00       259\n",
      "           electricity       0.00      0.00      0.00        98\n",
      "                 tools       0.00      0.00      0.00        43\n",
      "             hospitals       0.00      0.00      0.00        55\n",
      "                 shops       0.00      0.00      0.00        26\n",
      "           aid_centers       0.00      0.00      0.00        60\n",
      "  other_infrastructure       0.00      0.00      0.00       228\n",
      "       weather_related       0.59      0.30      0.40      1425\n",
      "                floods       0.20      0.00      0.00       430\n",
      "                 storm       0.49      0.04      0.07       493\n",
      "                  fire       0.00      0.00      0.00        66\n",
      "            earthquake       0.66      0.16      0.26       483\n",
      "                  cold       0.09      0.01      0.02        99\n",
      "         other_weather       0.22      0.01      0.02       247\n",
      "         direct_report       0.53      0.34      0.42       986\n",
      "\n",
      "             micro avg       0.75      0.41      0.53     16320\n",
      "             macro avg       0.18      0.08      0.09     16320\n",
      "          weighted avg       0.50      0.41      0.42     16320\n",
      "           samples avg       0.80      0.57      0.57     16320\n",
      "\n"
     ]
    },
    {
     "name": "stderr",
     "output_type": "stream",
     "text": [
      "C:\\anaconda\\anaconda3\\lib\\site-packages\\sklearn\\metrics\\classification.py:1437: UndefinedMetricWarning: Precision and F-score are ill-defined and being set to 0.0 in labels with no predicted samples.\n",
      "  'precision', 'predicted', average, warn_for)\n",
      "C:\\anaconda\\anaconda3\\lib\\site-packages\\sklearn\\metrics\\classification.py:1439: UndefinedMetricWarning: Recall and F-score are ill-defined and being set to 0.0 in labels with no true samples.\n",
      "  'recall', 'true', average, warn_for)\n"
     ]
    }
   ],
   "source": [
    "display_results(TARGET_NAMES, y_test, y_rfc_pred, None, None)"
   ]
  },
  {
   "cell_type": "markdown",
   "metadata": {},
   "source": [
    "Such kind of behaviour has been expected because having an imbalanced dataset and in the output vectors for each message, most of the target label values are set to 0 - only few are set to 1.<br>\n",
    "The accuracy metric is not an appropriate measure to evaluate model performance of such kind of dataset. It could classify all instances as part of the majority class and classifies the minority class targets as noise. It is not able to evaluate the model performance of a multi-class dataset with multi-output vectors.<br>\n",
    "Additionally in this classification report, often the metrics are not reliable because of being set to 0.0 according calculation rules. If values are available, precision is in general higher than recall, in other words, we have a high rate of false negatives (all items wrongly classified as not being part of the specific target class). Therefore we start to improve the model by using cross-validated hyperparameters."
   ]
  },
  {
   "cell_type": "markdown",
   "metadata": {},
   "source": [
    "### 6. Improve your model\n",
    "Use grid search to find better parameters. "
   ]
  },
  {
   "cell_type": "code",
   "execution_count": 27,
   "metadata": {},
   "outputs": [
    {
     "data": {
      "text/plain": [
       "{'memory': None, 'steps': [('features', FeatureUnion(n_jobs=None,\n",
       "                transformer_list=[('text_pipeline',\n",
       "                                   Pipeline(memory=None,\n",
       "                                            steps=[('vect',\n",
       "                                                    CountVectorizer(analyzer='word',\n",
       "                                                                    binary=False,\n",
       "                                                                    decode_error='strict',\n",
       "                                                                    dtype=<class 'numpy.int64'>,\n",
       "                                                                    encoding='utf-8',\n",
       "                                                                    input='content',\n",
       "                                                                    lowercase=True,\n",
       "                                                                    max_df=1.0,\n",
       "                                                                    max_features=None,\n",
       "                                                                    min_df=1,\n",
       "                                                                    ngram_range=(1,\n",
       "                                                                                 2),\n",
       "                                                                    preprocessor=None,\n",
       "                                                                    stop_words=None,\n",
       "                                                                    strip_accents=None,\n",
       "                                                                    token_pattern='(?u)\\\\b\\\\w\\\\w+\\\\b',\n",
       "                                                                    tokenizer=<function tokenize at 0x0000004F491A8840>,\n",
       "                                                                    vocabulary=None)),\n",
       "                                                   ('tfidf',\n",
       "                                                    TfidfTransformer(norm='l2',\n",
       "                                                                     smooth_idf=True,\n",
       "                                                                     sublinear_tf=True,\n",
       "                                                                     use_idf=True))],\n",
       "                                            verbose=False))],\n",
       "                transformer_weights=None, verbose=False)),\n",
       "  ('clf',\n",
       "   MultiOutputClassifier(estimator=RandomForestClassifier(bootstrap=True,\n",
       "                                                          class_weight='balanced',\n",
       "                                                          criterion='gini',\n",
       "                                                          max_depth=None,\n",
       "                                                          max_features='auto',\n",
       "                                                          max_leaf_nodes=None,\n",
       "                                                          min_impurity_decrease=0.0,\n",
       "                                                          min_impurity_split=None,\n",
       "                                                          min_samples_leaf=1,\n",
       "                                                          min_samples_split=2,\n",
       "                                                          min_weight_fraction_leaf=0.0,\n",
       "                                                          n_estimators=100,\n",
       "                                                          n_jobs=1,\n",
       "                                                          oob_score=False,\n",
       "                                                          random_state=42,\n",
       "                                                          verbose=0,\n",
       "                                                          warm_start=False),\n",
       "                         n_jobs=None))], 'verbose': False, 'features': FeatureUnion(n_jobs=None,\n",
       "              transformer_list=[('text_pipeline',\n",
       "                                 Pipeline(memory=None,\n",
       "                                          steps=[('vect',\n",
       "                                                  CountVectorizer(analyzer='word',\n",
       "                                                                  binary=False,\n",
       "                                                                  decode_error='strict',\n",
       "                                                                  dtype=<class 'numpy.int64'>,\n",
       "                                                                  encoding='utf-8',\n",
       "                                                                  input='content',\n",
       "                                                                  lowercase=True,\n",
       "                                                                  max_df=1.0,\n",
       "                                                                  max_features=None,\n",
       "                                                                  min_df=1,\n",
       "                                                                  ngram_range=(1,\n",
       "                                                                               2),\n",
       "                                                                  preprocessor=None,\n",
       "                                                                  stop_words=None,\n",
       "                                                                  strip_accents=None,\n",
       "                                                                  token_pattern='(?u)\\\\b\\\\w\\\\w+\\\\b',\n",
       "                                                                  tokenizer=<function tokenize at 0x0000004F491A8840>,\n",
       "                                                                  vocabulary=None)),\n",
       "                                                 ('tfidf',\n",
       "                                                  TfidfTransformer(norm='l2',\n",
       "                                                                   smooth_idf=True,\n",
       "                                                                   sublinear_tf=True,\n",
       "                                                                   use_idf=True))],\n",
       "                                          verbose=False))],\n",
       "              transformer_weights=None, verbose=False), 'clf': MultiOutputClassifier(estimator=RandomForestClassifier(bootstrap=True,\n",
       "                                                        class_weight='balanced',\n",
       "                                                        criterion='gini',\n",
       "                                                        max_depth=None,\n",
       "                                                        max_features='auto',\n",
       "                                                        max_leaf_nodes=None,\n",
       "                                                        min_impurity_decrease=0.0,\n",
       "                                                        min_impurity_split=None,\n",
       "                                                        min_samples_leaf=1,\n",
       "                                                        min_samples_split=2,\n",
       "                                                        min_weight_fraction_leaf=0.0,\n",
       "                                                        n_estimators=100,\n",
       "                                                        n_jobs=1,\n",
       "                                                        oob_score=False,\n",
       "                                                        random_state=42,\n",
       "                                                        verbose=0,\n",
       "                                                        warm_start=False),\n",
       "                       n_jobs=None), 'features__n_jobs': None, 'features__transformer_list': [('text_pipeline',\n",
       "   Pipeline(memory=None,\n",
       "            steps=[('vect',\n",
       "                    CountVectorizer(analyzer='word', binary=False,\n",
       "                                    decode_error='strict',\n",
       "                                    dtype=<class 'numpy.int64'>, encoding='utf-8',\n",
       "                                    input='content', lowercase=True, max_df=1.0,\n",
       "                                    max_features=None, min_df=1,\n",
       "                                    ngram_range=(1, 2), preprocessor=None,\n",
       "                                    stop_words=None, strip_accents=None,\n",
       "                                    token_pattern='(?u)\\\\b\\\\w\\\\w+\\\\b',\n",
       "                                    tokenizer=<function tokenize at 0x0000004F491A8840>,\n",
       "                                    vocabulary=None)),\n",
       "                   ('tfidf',\n",
       "                    TfidfTransformer(norm='l2', smooth_idf=True, sublinear_tf=True,\n",
       "                                     use_idf=True))],\n",
       "            verbose=False))], 'features__transformer_weights': None, 'features__verbose': False, 'features__text_pipeline': Pipeline(memory=None,\n",
       "          steps=[('vect',\n",
       "                  CountVectorizer(analyzer='word', binary=False,\n",
       "                                  decode_error='strict',\n",
       "                                  dtype=<class 'numpy.int64'>, encoding='utf-8',\n",
       "                                  input='content', lowercase=True, max_df=1.0,\n",
       "                                  max_features=None, min_df=1,\n",
       "                                  ngram_range=(1, 2), preprocessor=None,\n",
       "                                  stop_words=None, strip_accents=None,\n",
       "                                  token_pattern='(?u)\\\\b\\\\w\\\\w+\\\\b',\n",
       "                                  tokenizer=<function tokenize at 0x0000004F491A8840>,\n",
       "                                  vocabulary=None)),\n",
       "                 ('tfidf',\n",
       "                  TfidfTransformer(norm='l2', smooth_idf=True, sublinear_tf=True,\n",
       "                                   use_idf=True))],\n",
       "          verbose=False), 'features__text_pipeline__memory': None, 'features__text_pipeline__steps': [('vect',\n",
       "   CountVectorizer(analyzer='word', binary=False, decode_error='strict',\n",
       "                   dtype=<class 'numpy.int64'>, encoding='utf-8', input='content',\n",
       "                   lowercase=True, max_df=1.0, max_features=None, min_df=1,\n",
       "                   ngram_range=(1, 2), preprocessor=None, stop_words=None,\n",
       "                   strip_accents=None, token_pattern='(?u)\\\\b\\\\w\\\\w+\\\\b',\n",
       "                   tokenizer=<function tokenize at 0x0000004F491A8840>,\n",
       "                   vocabulary=None)),\n",
       "  ('tfidf',\n",
       "   TfidfTransformer(norm='l2', smooth_idf=True, sublinear_tf=True, use_idf=True))], 'features__text_pipeline__verbose': False, 'features__text_pipeline__vect': CountVectorizer(analyzer='word', binary=False, decode_error='strict',\n",
       "                 dtype=<class 'numpy.int64'>, encoding='utf-8', input='content',\n",
       "                 lowercase=True, max_df=1.0, max_features=None, min_df=1,\n",
       "                 ngram_range=(1, 2), preprocessor=None, stop_words=None,\n",
       "                 strip_accents=None, token_pattern='(?u)\\\\b\\\\w\\\\w+\\\\b',\n",
       "                 tokenizer=<function tokenize at 0x0000004F491A8840>,\n",
       "                 vocabulary=None), 'features__text_pipeline__tfidf': TfidfTransformer(norm='l2', smooth_idf=True, sublinear_tf=True, use_idf=True), 'features__text_pipeline__vect__analyzer': 'word', 'features__text_pipeline__vect__binary': False, 'features__text_pipeline__vect__decode_error': 'strict', 'features__text_pipeline__vect__dtype': numpy.int64, 'features__text_pipeline__vect__encoding': 'utf-8', 'features__text_pipeline__vect__input': 'content', 'features__text_pipeline__vect__lowercase': True, 'features__text_pipeline__vect__max_df': 1.0, 'features__text_pipeline__vect__max_features': None, 'features__text_pipeline__vect__min_df': 1, 'features__text_pipeline__vect__ngram_range': (1,\n",
       "  2), 'features__text_pipeline__vect__preprocessor': None, 'features__text_pipeline__vect__stop_words': None, 'features__text_pipeline__vect__strip_accents': None, 'features__text_pipeline__vect__token_pattern': '(?u)\\\\b\\\\w\\\\w+\\\\b', 'features__text_pipeline__vect__tokenizer': <function __main__.tokenize(text)>, 'features__text_pipeline__vect__vocabulary': None, 'features__text_pipeline__tfidf__norm': 'l2', 'features__text_pipeline__tfidf__smooth_idf': True, 'features__text_pipeline__tfidf__sublinear_tf': True, 'features__text_pipeline__tfidf__use_idf': True, 'clf__estimator__bootstrap': True, 'clf__estimator__class_weight': 'balanced', 'clf__estimator__criterion': 'gini', 'clf__estimator__max_depth': None, 'clf__estimator__max_features': 'auto', 'clf__estimator__max_leaf_nodes': None, 'clf__estimator__min_impurity_decrease': 0.0, 'clf__estimator__min_impurity_split': None, 'clf__estimator__min_samples_leaf': 1, 'clf__estimator__min_samples_split': 2, 'clf__estimator__min_weight_fraction_leaf': 0.0, 'clf__estimator__n_estimators': 100, 'clf__estimator__n_jobs': 1, 'clf__estimator__oob_score': False, 'clf__estimator__random_state': 42, 'clf__estimator__verbose': 0, 'clf__estimator__warm_start': False, 'clf__estimator': RandomForestClassifier(bootstrap=True, class_weight='balanced',\n",
       "                        criterion='gini', max_depth=None, max_features='auto',\n",
       "                        max_leaf_nodes=None, min_impurity_decrease=0.0,\n",
       "                        min_impurity_split=None, min_samples_leaf=1,\n",
       "                        min_samples_split=2, min_weight_fraction_leaf=0.0,\n",
       "                        n_estimators=100, n_jobs=1, oob_score=False,\n",
       "                        random_state=42, verbose=0, warm_start=False), 'clf__n_jobs': None}"
      ]
     },
     "execution_count": 27,
     "metadata": {},
     "output_type": "execute_result"
    }
   ],
   "source": [
    "pipeline.get_params()"
   ]
  },
  {
   "cell_type": "code",
   "execution_count": 28,
   "metadata": {},
   "outputs": [],
   "source": [
    "# specify parameters for grid search\n",
    "rfc_param_grid = {\n",
    "    'features__text_pipeline__vect__ngram_range': [(1,2), (1,3)],\n",
    "    'clf__estimator__n_estimators': [1000, 2000],\n",
    "    'clf__estimator__max_depth': [10, 20],\n",
    "    'clf__estimator__class_weight': ['balanced']\n",
    "}\n",
    "\n",
    "# create grid search object\n",
    "# https://scikit-learn.org/stable/modules/generated/sklearn.model_selection.GridSearchCV.html#sklearn.model_selection.GridSearchCV\n",
    "# cv not higher than 5 buckets, training needs days with cv=10 if e.g. amazon AWS EC2 service is not available\n",
    "# n_jobs set to 1 because cloud service throws TerminatedWorkerError if > 1\n",
    "# for scoring and refit see: https://stackoverflow.com/questions/57591311/combination-of-gridsearchcvs-refit-and-scorer-unclear\n",
    "#scoring = {'f1': make_scorer(f1_score, average=\"samples\"), 'Accuracy': make_scorer(accuracy_score)}\n",
    "grid_cv = GridSearchCV(pipeline, param_grid=rfc_param_grid, n_jobs=1, cv=5,\n",
    "                       return_train_score=True, verbose=2)# scoring = scoring, refit='f1', return_train_score=True, verbose=2)"
   ]
  },
  {
   "cell_type": "markdown",
   "metadata": {},
   "source": [
    "### 7. Test your model\n",
    "Show the accuracy, precision, recall and F-score of the tuned model.  \n",
    "\n",
    "Since this project focuses on code quality, process, and  pipelines, there is no minimum performance metric needed to pass. However, make sure to fine tune your models for accuracy, precision and recall to make your project stand out - especially for your portfolio!"
   ]
  },
  {
   "cell_type": "code",
   "execution_count": 29,
   "metadata": {},
   "outputs": [
    {
     "name": "stdout",
     "output_type": "stream",
     "text": [
      "Fitting 5 folds for each of 8 candidates, totalling 40 fits\n",
      "[CV] clf__estimator__class_weight=balanced, clf__estimator__max_depth=10, clf__estimator__n_estimators=1000, features__text_pipeline__vect__ngram_range=(1, 2) \n"
     ]
    },
    {
     "name": "stderr",
     "output_type": "stream",
     "text": [
      "[Parallel(n_jobs=1)]: Using backend SequentialBackend with 1 concurrent workers.\n"
     ]
    },
    {
     "name": "stdout",
     "output_type": "stream",
     "text": [
      "[CV]  clf__estimator__class_weight=balanced, clf__estimator__max_depth=10, clf__estimator__n_estimators=1000, features__text_pipeline__vect__ngram_range=(1, 2), total=18.6min\n"
     ]
    },
    {
     "name": "stderr",
     "output_type": "stream",
     "text": [
      "[Parallel(n_jobs=1)]: Done   1 out of   1 | elapsed: 26.8min remaining:    0.0s\n"
     ]
    },
    {
     "name": "stdout",
     "output_type": "stream",
     "text": [
      "[CV] clf__estimator__class_weight=balanced, clf__estimator__max_depth=10, clf__estimator__n_estimators=1000, features__text_pipeline__vect__ngram_range=(1, 2) \n",
      "[CV]  clf__estimator__class_weight=balanced, clf__estimator__max_depth=10, clf__estimator__n_estimators=1000, features__text_pipeline__vect__ngram_range=(1, 2), total=18.8min\n",
      "[CV] clf__estimator__class_weight=balanced, clf__estimator__max_depth=10, clf__estimator__n_estimators=1000, features__text_pipeline__vect__ngram_range=(1, 2) \n",
      "[CV]  clf__estimator__class_weight=balanced, clf__estimator__max_depth=10, clf__estimator__n_estimators=1000, features__text_pipeline__vect__ngram_range=(1, 2), total=19.0min\n",
      "[CV] clf__estimator__class_weight=balanced, clf__estimator__max_depth=10, clf__estimator__n_estimators=1000, features__text_pipeline__vect__ngram_range=(1, 2) \n",
      "[CV]  clf__estimator__class_weight=balanced, clf__estimator__max_depth=10, clf__estimator__n_estimators=1000, features__text_pipeline__vect__ngram_range=(1, 2), total=17.6min\n",
      "[CV] clf__estimator__class_weight=balanced, clf__estimator__max_depth=10, clf__estimator__n_estimators=1000, features__text_pipeline__vect__ngram_range=(1, 2) \n",
      "[CV]  clf__estimator__class_weight=balanced, clf__estimator__max_depth=10, clf__estimator__n_estimators=1000, features__text_pipeline__vect__ngram_range=(1, 2), total=19.4min\n",
      "[CV] clf__estimator__class_weight=balanced, clf__estimator__max_depth=10, clf__estimator__n_estimators=1000, features__text_pipeline__vect__ngram_range=(1, 3) \n",
      "[CV]  clf__estimator__class_weight=balanced, clf__estimator__max_depth=10, clf__estimator__n_estimators=1000, features__text_pipeline__vect__ngram_range=(1, 3), total=26.5min\n",
      "[CV] clf__estimator__class_weight=balanced, clf__estimator__max_depth=10, clf__estimator__n_estimators=1000, features__text_pipeline__vect__ngram_range=(1, 3) \n",
      "[CV]  clf__estimator__class_weight=balanced, clf__estimator__max_depth=10, clf__estimator__n_estimators=1000, features__text_pipeline__vect__ngram_range=(1, 3), total=26.7min\n",
      "[CV] clf__estimator__class_weight=balanced, clf__estimator__max_depth=10, clf__estimator__n_estimators=1000, features__text_pipeline__vect__ngram_range=(1, 3) \n",
      "[CV]  clf__estimator__class_weight=balanced, clf__estimator__max_depth=10, clf__estimator__n_estimators=1000, features__text_pipeline__vect__ngram_range=(1, 3), total=26.2min\n",
      "[CV] clf__estimator__class_weight=balanced, clf__estimator__max_depth=10, clf__estimator__n_estimators=1000, features__text_pipeline__vect__ngram_range=(1, 3) \n",
      "[CV]  clf__estimator__class_weight=balanced, clf__estimator__max_depth=10, clf__estimator__n_estimators=1000, features__text_pipeline__vect__ngram_range=(1, 3), total=26.0min\n",
      "[CV] clf__estimator__class_weight=balanced, clf__estimator__max_depth=10, clf__estimator__n_estimators=1000, features__text_pipeline__vect__ngram_range=(1, 3) \n",
      "[CV]  clf__estimator__class_weight=balanced, clf__estimator__max_depth=10, clf__estimator__n_estimators=1000, features__text_pipeline__vect__ngram_range=(1, 3), total=26.3min\n",
      "[CV] clf__estimator__class_weight=balanced, clf__estimator__max_depth=10, clf__estimator__n_estimators=2000, features__text_pipeline__vect__ngram_range=(1, 2) \n",
      "[CV]  clf__estimator__class_weight=balanced, clf__estimator__max_depth=10, clf__estimator__n_estimators=2000, features__text_pipeline__vect__ngram_range=(1, 2), total=36.3min\n",
      "[CV] clf__estimator__class_weight=balanced, clf__estimator__max_depth=10, clf__estimator__n_estimators=2000, features__text_pipeline__vect__ngram_range=(1, 2) \n",
      "[CV]  clf__estimator__class_weight=balanced, clf__estimator__max_depth=10, clf__estimator__n_estimators=2000, features__text_pipeline__vect__ngram_range=(1, 2), total=37.6min\n",
      "[CV] clf__estimator__class_weight=balanced, clf__estimator__max_depth=10, clf__estimator__n_estimators=2000, features__text_pipeline__vect__ngram_range=(1, 2) \n",
      "[CV]  clf__estimator__class_weight=balanced, clf__estimator__max_depth=10, clf__estimator__n_estimators=2000, features__text_pipeline__vect__ngram_range=(1, 2), total=38.2min\n",
      "[CV] clf__estimator__class_weight=balanced, clf__estimator__max_depth=10, clf__estimator__n_estimators=2000, features__text_pipeline__vect__ngram_range=(1, 2) \n",
      "[CV]  clf__estimator__class_weight=balanced, clf__estimator__max_depth=10, clf__estimator__n_estimators=2000, features__text_pipeline__vect__ngram_range=(1, 2), total=37.6min\n",
      "[CV] clf__estimator__class_weight=balanced, clf__estimator__max_depth=10, clf__estimator__n_estimators=2000, features__text_pipeline__vect__ngram_range=(1, 2) \n",
      "[CV]  clf__estimator__class_weight=balanced, clf__estimator__max_depth=10, clf__estimator__n_estimators=2000, features__text_pipeline__vect__ngram_range=(1, 2), total=36.7min\n",
      "[CV] clf__estimator__class_weight=balanced, clf__estimator__max_depth=10, clf__estimator__n_estimators=2000, features__text_pipeline__vect__ngram_range=(1, 3) \n",
      "[CV]  clf__estimator__class_weight=balanced, clf__estimator__max_depth=10, clf__estimator__n_estimators=2000, features__text_pipeline__vect__ngram_range=(1, 3), total=51.9min\n",
      "[CV] clf__estimator__class_weight=balanced, clf__estimator__max_depth=10, clf__estimator__n_estimators=2000, features__text_pipeline__vect__ngram_range=(1, 3) \n",
      "[CV]  clf__estimator__class_weight=balanced, clf__estimator__max_depth=10, clf__estimator__n_estimators=2000, features__text_pipeline__vect__ngram_range=(1, 3), total=51.8min\n",
      "[CV] clf__estimator__class_weight=balanced, clf__estimator__max_depth=10, clf__estimator__n_estimators=2000, features__text_pipeline__vect__ngram_range=(1, 3) \n",
      "[CV]  clf__estimator__class_weight=balanced, clf__estimator__max_depth=10, clf__estimator__n_estimators=2000, features__text_pipeline__vect__ngram_range=(1, 3), total=52.3min\n",
      "[CV] clf__estimator__class_weight=balanced, clf__estimator__max_depth=10, clf__estimator__n_estimators=2000, features__text_pipeline__vect__ngram_range=(1, 3) \n",
      "[CV]  clf__estimator__class_weight=balanced, clf__estimator__max_depth=10, clf__estimator__n_estimators=2000, features__text_pipeline__vect__ngram_range=(1, 3), total=51.3min\n",
      "[CV] clf__estimator__class_weight=balanced, clf__estimator__max_depth=10, clf__estimator__n_estimators=2000, features__text_pipeline__vect__ngram_range=(1, 3) \n",
      "[CV]  clf__estimator__class_weight=balanced, clf__estimator__max_depth=10, clf__estimator__n_estimators=2000, features__text_pipeline__vect__ngram_range=(1, 3), total=51.1min\n",
      "[CV] clf__estimator__class_weight=balanced, clf__estimator__max_depth=20, clf__estimator__n_estimators=1000, features__text_pipeline__vect__ngram_range=(1, 2) \n",
      "[CV]  clf__estimator__class_weight=balanced, clf__estimator__max_depth=20, clf__estimator__n_estimators=1000, features__text_pipeline__vect__ngram_range=(1, 2), total=36.2min\n",
      "[CV] clf__estimator__class_weight=balanced, clf__estimator__max_depth=20, clf__estimator__n_estimators=1000, features__text_pipeline__vect__ngram_range=(1, 2) \n",
      "[CV]  clf__estimator__class_weight=balanced, clf__estimator__max_depth=20, clf__estimator__n_estimators=1000, features__text_pipeline__vect__ngram_range=(1, 2), total=35.8min\n",
      "[CV] clf__estimator__class_weight=balanced, clf__estimator__max_depth=20, clf__estimator__n_estimators=1000, features__text_pipeline__vect__ngram_range=(1, 2) \n",
      "[CV]  clf__estimator__class_weight=balanced, clf__estimator__max_depth=20, clf__estimator__n_estimators=1000, features__text_pipeline__vect__ngram_range=(1, 2), total=37.5min\n",
      "[CV] clf__estimator__class_weight=balanced, clf__estimator__max_depth=20, clf__estimator__n_estimators=1000, features__text_pipeline__vect__ngram_range=(1, 2) \n",
      "[CV]  clf__estimator__class_weight=balanced, clf__estimator__max_depth=20, clf__estimator__n_estimators=1000, features__text_pipeline__vect__ngram_range=(1, 2), total=37.1min\n",
      "[CV] clf__estimator__class_weight=balanced, clf__estimator__max_depth=20, clf__estimator__n_estimators=1000, features__text_pipeline__vect__ngram_range=(1, 2) \n",
      "[CV]  clf__estimator__class_weight=balanced, clf__estimator__max_depth=20, clf__estimator__n_estimators=1000, features__text_pipeline__vect__ngram_range=(1, 2), total=35.4min\n",
      "[CV] clf__estimator__class_weight=balanced, clf__estimator__max_depth=20, clf__estimator__n_estimators=1000, features__text_pipeline__vect__ngram_range=(1, 3) \n"
     ]
    },
    {
     "name": "stdout",
     "output_type": "stream",
     "text": [
      "[CV]  clf__estimator__class_weight=balanced, clf__estimator__max_depth=20, clf__estimator__n_estimators=1000, features__text_pipeline__vect__ngram_range=(1, 3), total=47.5min\n",
      "[CV] clf__estimator__class_weight=balanced, clf__estimator__max_depth=20, clf__estimator__n_estimators=1000, features__text_pipeline__vect__ngram_range=(1, 3) \n",
      "[CV]  clf__estimator__class_weight=balanced, clf__estimator__max_depth=20, clf__estimator__n_estimators=1000, features__text_pipeline__vect__ngram_range=(1, 3), total=46.1min\n",
      "[CV] clf__estimator__class_weight=balanced, clf__estimator__max_depth=20, clf__estimator__n_estimators=1000, features__text_pipeline__vect__ngram_range=(1, 3) \n",
      "[CV]  clf__estimator__class_weight=balanced, clf__estimator__max_depth=20, clf__estimator__n_estimators=1000, features__text_pipeline__vect__ngram_range=(1, 3), total=46.7min\n",
      "[CV] clf__estimator__class_weight=balanced, clf__estimator__max_depth=20, clf__estimator__n_estimators=1000, features__text_pipeline__vect__ngram_range=(1, 3) \n",
      "[CV]  clf__estimator__class_weight=balanced, clf__estimator__max_depth=20, clf__estimator__n_estimators=1000, features__text_pipeline__vect__ngram_range=(1, 3), total=45.2min\n",
      "[CV] clf__estimator__class_weight=balanced, clf__estimator__max_depth=20, clf__estimator__n_estimators=1000, features__text_pipeline__vect__ngram_range=(1, 3) \n",
      "[CV]  clf__estimator__class_weight=balanced, clf__estimator__max_depth=20, clf__estimator__n_estimators=1000, features__text_pipeline__vect__ngram_range=(1, 3), total=46.9min\n",
      "[CV] clf__estimator__class_weight=balanced, clf__estimator__max_depth=20, clf__estimator__n_estimators=2000, features__text_pipeline__vect__ngram_range=(1, 2) \n",
      "[CV]  clf__estimator__class_weight=balanced, clf__estimator__max_depth=20, clf__estimator__n_estimators=2000, features__text_pipeline__vect__ngram_range=(1, 2), total=67.4min\n",
      "[CV] clf__estimator__class_weight=balanced, clf__estimator__max_depth=20, clf__estimator__n_estimators=2000, features__text_pipeline__vect__ngram_range=(1, 2) \n",
      "[CV]  clf__estimator__class_weight=balanced, clf__estimator__max_depth=20, clf__estimator__n_estimators=2000, features__text_pipeline__vect__ngram_range=(1, 2), total=68.1min\n",
      "[CV] clf__estimator__class_weight=balanced, clf__estimator__max_depth=20, clf__estimator__n_estimators=2000, features__text_pipeline__vect__ngram_range=(1, 2) \n",
      "[CV]  clf__estimator__class_weight=balanced, clf__estimator__max_depth=20, clf__estimator__n_estimators=2000, features__text_pipeline__vect__ngram_range=(1, 2), total=70.7min\n",
      "[CV] clf__estimator__class_weight=balanced, clf__estimator__max_depth=20, clf__estimator__n_estimators=2000, features__text_pipeline__vect__ngram_range=(1, 2) \n",
      "[CV]  clf__estimator__class_weight=balanced, clf__estimator__max_depth=20, clf__estimator__n_estimators=2000, features__text_pipeline__vect__ngram_range=(1, 2), total=69.1min\n",
      "[CV] clf__estimator__class_weight=balanced, clf__estimator__max_depth=20, clf__estimator__n_estimators=2000, features__text_pipeline__vect__ngram_range=(1, 2) \n",
      "[CV]  clf__estimator__class_weight=balanced, clf__estimator__max_depth=20, clf__estimator__n_estimators=2000, features__text_pipeline__vect__ngram_range=(1, 2), total=71.0min\n",
      "[CV] clf__estimator__class_weight=balanced, clf__estimator__max_depth=20, clf__estimator__n_estimators=2000, features__text_pipeline__vect__ngram_range=(1, 3) \n",
      "[CV]  clf__estimator__class_weight=balanced, clf__estimator__max_depth=20, clf__estimator__n_estimators=2000, features__text_pipeline__vect__ngram_range=(1, 3), total=94.0min\n",
      "[CV] clf__estimator__class_weight=balanced, clf__estimator__max_depth=20, clf__estimator__n_estimators=2000, features__text_pipeline__vect__ngram_range=(1, 3) \n",
      "[CV]  clf__estimator__class_weight=balanced, clf__estimator__max_depth=20, clf__estimator__n_estimators=2000, features__text_pipeline__vect__ngram_range=(1, 3), total=93.9min\n",
      "[CV] clf__estimator__class_weight=balanced, clf__estimator__max_depth=20, clf__estimator__n_estimators=2000, features__text_pipeline__vect__ngram_range=(1, 3) \n",
      "[CV]  clf__estimator__class_weight=balanced, clf__estimator__max_depth=20, clf__estimator__n_estimators=2000, features__text_pipeline__vect__ngram_range=(1, 3), total=94.4min\n",
      "[CV] clf__estimator__class_weight=balanced, clf__estimator__max_depth=20, clf__estimator__n_estimators=2000, features__text_pipeline__vect__ngram_range=(1, 3) \n",
      "[CV]  clf__estimator__class_weight=balanced, clf__estimator__max_depth=20, clf__estimator__n_estimators=2000, features__text_pipeline__vect__ngram_range=(1, 3), total=93.6min\n",
      "[CV] clf__estimator__class_weight=balanced, clf__estimator__max_depth=20, clf__estimator__n_estimators=2000, features__text_pipeline__vect__ngram_range=(1, 3) \n",
      "[CV]  clf__estimator__class_weight=balanced, clf__estimator__max_depth=20, clf__estimator__n_estimators=2000, features__text_pipeline__vect__ngram_range=(1, 3), total=92.3min\n"
     ]
    },
    {
     "name": "stderr",
     "output_type": "stream",
     "text": [
      "[Parallel(n_jobs=1)]: Done  40 out of  40 | elapsed: 2537.5min finished\n"
     ]
    },
    {
     "data": {
      "text/plain": [
       "GridSearchCV(cv=5, error_score='raise-deprecating',\n",
       "             estimator=Pipeline(memory=None,\n",
       "                                steps=[('features',\n",
       "                                        FeatureUnion(n_jobs=None,\n",
       "                                                     transformer_list=[('text_pipeline',\n",
       "                                                                        Pipeline(memory=None,\n",
       "                                                                                 steps=[('vect',\n",
       "                                                                                         CountVectorizer(analyzer='word',\n",
       "                                                                                                         binary=False,\n",
       "                                                                                                         decode_error='strict',\n",
       "                                                                                                         dtype=<class 'numpy.int64'>,\n",
       "                                                                                                         encoding='utf-8',\n",
       "                                                                                                         input='content',\n",
       "                                                                                                         lowercase=True,\n",
       "                                                                                                         max_df=1.0,\n",
       "                                                                                                         m...\n",
       "                                                                                               verbose=0,\n",
       "                                                                                               warm_start=False),\n",
       "                                                              n_jobs=None))],\n",
       "                                verbose=False),\n",
       "             iid='warn', n_jobs=1,\n",
       "             param_grid={'clf__estimator__class_weight': ['balanced'],\n",
       "                         'clf__estimator__max_depth': [10, 20],\n",
       "                         'clf__estimator__n_estimators': [1000, 2000],\n",
       "                         'features__text_pipeline__vect__ngram_range': [(1, 2),\n",
       "                                                                        (1,\n",
       "                                                                         3)]},\n",
       "             pre_dispatch='2*n_jobs', refit=True, return_train_score=True,\n",
       "             scoring=None, verbose=2)"
      ]
     },
     "execution_count": 29,
     "metadata": {},
     "output_type": "execute_result"
    }
   ],
   "source": [
    "# model = cv\n",
    "grid_cv.fit(X_train, y_train)"
   ]
  },
  {
   "cell_type": "code",
   "execution_count": 30,
   "metadata": {},
   "outputs": [
    {
     "data": {
      "text/plain": [
       "array([[1, 0, 0, ..., 0, 0, 0],\n",
       "       [1, 0, 0, ..., 0, 0, 0],\n",
       "       [1, 0, 0, ..., 0, 0, 0],\n",
       "       ...,\n",
       "       [1, 0, 0, ..., 0, 0, 1],\n",
       "       [1, 0, 0, ..., 0, 0, 1],\n",
       "       [1, 1, 0, ..., 0, 0, 1]], dtype=int64)"
      ]
     },
     "execution_count": 30,
     "metadata": {},
     "output_type": "execute_result"
    }
   ],
   "source": [
    "y_rfc_pred2 = grid_cv.predict(X_test)\n",
    "y_rfc_pred2"
   ]
  },
  {
   "cell_type": "code",
   "execution_count": 31,
   "metadata": {},
   "outputs": [
    {
     "name": "stdout",
     "output_type": "stream",
     "text": [
      "CV results:\n"
     ]
    },
    {
     "data": {
      "text/plain": [
       "['mean_fit_time',\n",
       " 'mean_score_time',\n",
       " 'mean_test_score',\n",
       " 'mean_train_score',\n",
       " 'param_clf__estimator__class_weight',\n",
       " 'param_clf__estimator__max_depth',\n",
       " 'param_clf__estimator__n_estimators',\n",
       " 'param_features__text_pipeline__vect__ngram_range',\n",
       " 'params',\n",
       " 'rank_test_score',\n",
       " 'split0_test_score',\n",
       " 'split0_train_score',\n",
       " 'split1_test_score',\n",
       " 'split1_train_score',\n",
       " 'split2_test_score',\n",
       " 'split2_train_score',\n",
       " 'split3_test_score',\n",
       " 'split3_train_score',\n",
       " 'split4_test_score',\n",
       " 'split4_train_score',\n",
       " 'std_fit_time',\n",
       " 'std_score_time',\n",
       " 'std_test_score',\n",
       " 'std_train_score']"
      ]
     },
     "execution_count": 31,
     "metadata": {},
     "output_type": "execute_result"
    }
   ],
   "source": [
    "print(\"CV results:\")\n",
    "sorted(grid_cv.cv_results_.keys())"
   ]
  },
  {
   "cell_type": "code",
   "execution_count": 32,
   "metadata": {},
   "outputs": [
    {
     "name": "stdout",
     "output_type": "stream",
     "text": [
      "mean_fit_time = [ 951.01102476 1289.35329661 1897.77585025 2530.09342275 1985.3813417\n",
      " 2492.7219656  3751.74686284 5012.73669758] \n",
      "\n",
      "std_fit_time = [31.64974161 14.4293965  40.56762986 20.34711407 41.96932656 45.73615276\n",
      " 84.01539479 41.12148111] \n",
      "\n",
      "mean_score_time = [168.82307229 290.16513877 338.12631183 570.52026534 198.09174027\n",
      " 295.95815959 402.81810784 605.61343603] \n",
      "\n",
      "std_score_time = [4.76827371 3.21221783 1.79543797 6.13089396 8.51926294 3.68539973\n",
      " 3.82734014 5.46997596] \n",
      "\n",
      "param_clf__estimator__class_weight = ['balanced' 'balanced' 'balanced' 'balanced' 'balanced' 'balanced'\n",
      " 'balanced' 'balanced'] \n",
      "\n",
      "param_clf__estimator__max_depth = [10 10 10 10 20 20 20 20] \n",
      "\n",
      "param_clf__estimator__n_estimators = [1000 1000 2000 2000 1000 1000 2000 2000] \n",
      "\n",
      "param_features__text_pipeline__vect__ngram_range = [(1, 2) (1, 3) (1, 2) (1, 3) (1, 2) (1, 3) (1, 2) (1, 3)] \n",
      "\n",
      "params = [{'clf__estimator__class_weight': 'balanced', 'clf__estimator__max_depth': 10, 'clf__estimator__n_estimators': 1000, 'features__text_pipeline__vect__ngram_range': (1, 2)}, {'clf__estimator__class_weight': 'balanced', 'clf__estimator__max_depth': 10, 'clf__estimator__n_estimators': 1000, 'features__text_pipeline__vect__ngram_range': (1, 3)}, {'clf__estimator__class_weight': 'balanced', 'clf__estimator__max_depth': 10, 'clf__estimator__n_estimators': 2000, 'features__text_pipeline__vect__ngram_range': (1, 2)}, {'clf__estimator__class_weight': 'balanced', 'clf__estimator__max_depth': 10, 'clf__estimator__n_estimators': 2000, 'features__text_pipeline__vect__ngram_range': (1, 3)}, {'clf__estimator__class_weight': 'balanced', 'clf__estimator__max_depth': 20, 'clf__estimator__n_estimators': 1000, 'features__text_pipeline__vect__ngram_range': (1, 2)}, {'clf__estimator__class_weight': 'balanced', 'clf__estimator__max_depth': 20, 'clf__estimator__n_estimators': 1000, 'features__text_pipeline__vect__ngram_range': (1, 3)}, {'clf__estimator__class_weight': 'balanced', 'clf__estimator__max_depth': 20, 'clf__estimator__n_estimators': 2000, 'features__text_pipeline__vect__ngram_range': (1, 2)}, {'clf__estimator__class_weight': 'balanced', 'clf__estimator__max_depth': 20, 'clf__estimator__n_estimators': 2000, 'features__text_pipeline__vect__ngram_range': (1, 3)}] \n",
      "\n",
      "split0_test_score = [0.03787397 0.04583068 0.03978358 0.04455761 0.04996817 0.0496499\n",
      " 0.04583068 0.05060471] \n",
      "\n",
      "split1_test_score = [0.03660089 0.0496499  0.03723743 0.04678549 0.04901337 0.04996817\n",
      " 0.05060471 0.0496499 ] \n",
      "\n",
      "split2_test_score = [0.03438395 0.04839223 0.03788602 0.04743712 0.0455269  0.05284941\n",
      " 0.04584527 0.05157593] \n",
      "\n",
      "split3_test_score = [0.03693091 0.0423432  0.03788602 0.0423432  0.04680038 0.04584527\n",
      " 0.04902897 0.0487106 ] \n",
      "\n",
      "split4_test_score = [0.03724928 0.04839223 0.03979624 0.05125756 0.04648201 0.05603311\n",
      " 0.04648201 0.055078  ] \n",
      "\n",
      "mean_test_score = [0.03660788 0.04692175 0.03851786 0.04647609 0.04755841 0.05086904\n",
      " 0.04755841 0.0511237 ] \n",
      "\n",
      "std_test_score = [0.00118863 0.00260459 0.00106532 0.00298793 0.00166041 0.00340937\n",
      " 0.00192471 0.00219559] \n",
      "\n",
      "rank_test_score = [8 5 7 6 3 2 3 1] \n",
      "\n",
      "split0_train_score = [0.17461202 0.19434938 0.18376442 0.20437724 0.27918822 0.27536809\n",
      " 0.28460008 0.28300836] \n",
      "\n",
      "split1_train_score = [0.18989256 0.19761242 0.19259849 0.20429765 0.28475925 0.28404298\n",
      " 0.29128532 0.28523677] \n",
      "\n",
      "split2_train_score = [0.18717173 0.19648257 0.1944135  0.20444055 0.2807576  0.28147382\n",
      " 0.28847684 0.28990928] \n",
      "\n",
      "split3_train_score = [0.18565972 0.2022919  0.19560719 0.20332644 0.28505491 0.28163298\n",
      " 0.29213751 0.28728314] \n",
      "\n",
      "split4_train_score = [0.18709215 0.20038198 0.19337896 0.20802165 0.28879516 0.28433869\n",
      " 0.2914213  0.2874423 ] \n",
      "\n",
      "mean_train_score = [0.18488564 0.19822365 0.19195251 0.20489271 0.28371103 0.28137131\n",
      " 0.28958421 0.28657597] \n",
      "\n",
      "std_train_score = [0.00531621 0.0028151  0.00421687 0.00161664 0.00340387 0.00322679\n",
      " 0.00278768 0.00231875] \n",
      "\n"
     ]
    }
   ],
   "source": [
    "for param_name, param_value in zip(grid_cv.cv_results_.keys(), grid_cv.cv_results_.values()):\n",
    "    print(param_name, \"=\", param_value, \"\\n\")"
   ]
  },
  {
   "cell_type": "code",
   "execution_count": 33,
   "metadata": {},
   "outputs": [
    {
     "data": {
      "text/plain": [
       "sklearn.pipeline.Pipeline"
      ]
     },
     "execution_count": 33,
     "metadata": {},
     "output_type": "execute_result"
    }
   ],
   "source": [
    "type(grid_cv.best_estimator_)"
   ]
  },
  {
   "cell_type": "code",
   "execution_count": 34,
   "metadata": {},
   "outputs": [
    {
     "name": "stdout",
     "output_type": "stream",
     "text": [
      "Evaluation results for the 5 buckets cross validation tuned 'RandomForestClassifier' estimator:\n",
      "\n",
      "First: overall accuracy score: 0.053731\n",
      "Classification Report for each target class:\n",
      "                         precision    recall  f1-score   support\n",
      "\n",
      "               related       1.00      1.00      1.00      3927\n",
      "               request       0.50      0.76      0.60       875\n",
      "                 offer       0.00      0.00      0.00        29\n",
      "           aid_related       0.58      0.65      0.61      2146\n",
      "          medical_help       0.10      0.01      0.01       386\n",
      "      medical_products       0.17      0.00      0.01       253\n",
      "     search_and_rescue       0.00      0.00      0.00       142\n",
      "              security       0.00      0.00      0.00       103\n",
      "              military       0.00      0.00      0.00       179\n",
      "           child_alone       0.00      0.00      0.00         0\n",
      "                 water       0.14      0.08      0.10       332\n",
      "                  food       0.25      0.41      0.31       553\n",
      "               shelter       0.16      0.09      0.12       456\n",
      "              clothing       0.25      0.01      0.02        85\n",
      "                 money       0.00      0.00      0.00       122\n",
      "        missing_people       0.00      0.00      0.00        68\n",
      "              refugees       0.00      0.00      0.00       174\n",
      "                 death       0.00      0.00      0.00       233\n",
      "             other_aid       0.20      0.13      0.16       696\n",
      "infrastructure_related       0.11      0.00      0.01       341\n",
      "             transport       0.00      0.00      0.00       222\n",
      "             buildings       0.00      0.00      0.00       259\n",
      "           electricity       0.00      0.00      0.00        98\n",
      "                 tools       0.00      0.00      0.00        43\n",
      "             hospitals       0.00      0.00      0.00        55\n",
      "                 shops       0.00      0.00      0.00        26\n",
      "           aid_centers       0.00      0.00      0.00        60\n",
      "  other_infrastructure       0.00      0.00      0.00       228\n",
      "       weather_related       0.58      0.43      0.50      1425\n",
      "                floods       0.19      0.11      0.14       430\n",
      "                 storm       0.42      0.23      0.30       493\n",
      "                  fire       0.00      0.00      0.00        66\n",
      "            earthquake       0.51      0.26      0.35       483\n",
      "                  cold       0.00      0.00      0.00        99\n",
      "         other_weather       0.04      0.01      0.01       247\n",
      "         direct_report       0.46      0.74      0.57       986\n",
      "\n",
      "             micro avg       0.62      0.49      0.55     16320\n",
      "             macro avg       0.16      0.14      0.13     16320\n",
      "          weighted avg       0.49      0.49      0.48     16320\n",
      "           samples avg       0.69      0.63      0.56     16320\n",
      "\n",
      "\n",
      "\n",
      "---- Best Parameters: ----\n",
      "\n",
      "Best score: 0.051124\n",
      "Best estimators parameters set:\n",
      "\t clf__estimator__class_weight: balanced\n",
      "\t clf__estimator__max_depth: 20\n",
      "\t clf__estimator__n_estimators: 2000\n",
      "\t features__text_pipeline__vect__ngram_range: (1, 3)\n"
     ]
    },
    {
     "name": "stderr",
     "output_type": "stream",
     "text": [
      "C:\\anaconda\\anaconda3\\lib\\site-packages\\sklearn\\metrics\\classification.py:1437: UndefinedMetricWarning: Precision and F-score are ill-defined and being set to 0.0 in labels with no predicted samples.\n",
      "  'precision', 'predicted', average, warn_for)\n",
      "C:\\anaconda\\anaconda3\\lib\\site-packages\\sklearn\\metrics\\classification.py:1439: UndefinedMetricWarning: Recall and F-score are ill-defined and being set to 0.0 in labels with no true samples.\n",
      "  'recall', 'true', average, warn_for)\n"
     ]
    }
   ],
   "source": [
    "print(\"Evaluation results for the 5 buckets cross validation tuned 'RandomForestClassifier' estimator:\")\n",
    "display_results(TARGET_NAMES, y_test, y_rfc_pred2, grid_cv, rfc_param_grid)"
   ]
  },
  {
   "cell_type": "markdown",
   "metadata": {},
   "source": [
    "The tuned evaluation result of the RandomForestClassifier with tuned hyperparameters is not better, there are still much categories set to 0.0 and having a low best score."
   ]
  },
  {
   "cell_type": "markdown",
   "metadata": {},
   "source": [
    "### 8. Try improving your model further. Here are a few ideas:\n",
    "* try other machine learning algorithms\n",
    "* add other features besides the TF-IDF"
   ]
  },
  {
   "cell_type": "markdown",
   "metadata": {},
   "source": [
    "**First**, we try out other machine learning algorithms which are tuned by cross validation to compare their prediction results. Other estimator models for the requested `MultiOutputClassifier` are:\n",
    "- `KNeighborsClassifier` with its default parameters: (n_neighbors=5, weights=’uniform’, algorithm=’auto’, leaf_size=30, p=2, metric=’minkowski’, metric_params=None, n_jobs=None, **kwargs)\n",
    "- `RadiusNeighborsClassifier` with its default parameters: (radius=1.0, weights=’uniform’, algorithm=’auto’, leaf_size=30, p=2, metric=’minkowski’, outlier_label=None, metric_params=None, n_jobs=None, **kwargs)\n",
    "\n",
    "As stated in the scikit-learn [documentation](https://scikit-learn.org/stable/modules/neighbors.html#classification) \"scikit-learn implements two different nearest neighbors classifiers: <i>KNeighborsClassifier</i> implements learning based on the nearest neighbors of each query point, where is an integer value specified by the user.<br> <i>RadiusNeighborsClassifier</i> implements learning based on the number of neighbors within a fixed radius of each training point, where is a floating-point value specified by the user.\"\n",
    "    \n",
    "**Second**, because it is an imbalanced dataset we could do a balancing before classification. The categority classes with low numbers of observations are outnumbered. So, the dataset is highly skewed. To create a balanced dataset several strategies exists:\n",
    "- Undersampling the majority classes\n",
    "- Oversampling the minority classes\n",
    "- Combining over- and under-sampling\n",
    "- Create ensemble balanced sets\n",
    "\n",
    "But have in mind, that minority class oversampling could result in overfitting problems doing it before cross-validation. We would link the information of validation data to our training dataset which is forbidden.\n",
    "\n",
    "Note:<br>\n",
    "Doing balancing activities the specific scikit package 'imbalanced-learn' is imported.<br>\n",
    "For combining the strategies we implement a naive random oversampling of the minority classes.<br>\n",
    "For undersampling the package can be used as well to create the pipeline with `PipelineImb`. The pipeline itself includes the class `RandomUnderSampler()` directly before the MultiOutputClassifier to equalize the number of samples in all the classes before the training.\n",
    "\n",
    "Using such package throws the following ValueError: 'Imbalanced-learn currently supports binary, multiclass and binarized encoded multiclasss targets. Multilabel and multioutput targets are not supported.' So, the associated package classes do not support the multi-target classification with multiple outputs as we need for our project. Therefore this coding is removed after such experiment.\n",
    "\n",
    "According the [paper](https://arxiv.org/ftp/arxiv/papers/1810/1810.11612.pdf) <i>Handling Imbalanced Dataset in Multi-label Text Categorization using Bagging and Adaptive Boosting</i> of 27 October 2018 from Genta Indra Winata and Masayu Leylia Khodra, regarding new data, it is more appropriate to balance the dataset on the algorithm level instead of the data level to avoid overfitting. The algorithm \"approach modifies algorithm by adjusting weight or cost of various classes.\"\n",
    "\n",
    "If the usage of the mentioned specific library is not possible for our task, what could we do instead?<br>\n",
    "Another option is a `feature-selection` approach which can be done after the feature extraction of the `TfidfVectorizer`, which is creating [feature vectors](https://scikit-learn.org/stable/modules/generated/sklearn.feature_extraction.text.TfidfVectorizer.html#sklearn.feature_extraction.text.TfidfVectorizer).\n",
    "\n",
    "Scikit-learn offers the package [feature decomposition](https://scikit-learn.org/stable/modules/classes.html#module-sklearn.decomposition). With its help a subsampling is added:\n",
    "- For the sparse matrix delivered from the `TfidfVectorizer` instance we use 2500 most frequent text features, each feature token shall appear at least 5 times and n-gram wording during grid search hyperparameter tuning.\n",
    "- Feature relationship of the sparse matrix is handled with `TruncatedSVD` for latent semantic analysis (LSA). There, a component relationship parameter is evaluated via grid search hyperparameter tuning. Afterwards we have to normalise again."
   ]
  },
  {
   "cell_type": "code",
   "execution_count": 82,
   "metadata": {},
   "outputs": [],
   "source": [
    "def build_model(model_type, params):\n",
    "    ''' \n",
    "    input:\n",
    "    model_type - the estimator model used for the MultiOutputClassifier\n",
    "    params - the estimator model parameter grid used for the GridSearchCV \n",
    "    ''' \n",
    "    \n",
    "    # TfidfVectorizer, by default: use_idf=True, norm=’l2’\n",
    "    # TruncatedSVD: for SLA n_components of 100 is recommended, but it is stated:\n",
    "    # Desired dimensionality of output data. Must be strictly less than the number of features.\n",
    "    # We have 36 features and want to have 30.\n",
    "    #\n",
    "    # For RandomizedSearchCV: we have 8 parameters => n_iter=8\n",
    "    pipeline2 = Pipeline([\n",
    "        ('features', FeatureUnion([            \n",
    "            ('text_pipeline', Pipeline([\n",
    "                ('tfidf', TfidfVectorizer(tokenizer=tokenize, sublinear_tf=True,                                   \n",
    "                                          max_features=2500, min_df=5)),\n",
    "                ('best', TruncatedSVD(n_components=30, random_state=FIXED_SEED)),\n",
    "                ('normalizer', Normalizer(copy=False))\n",
    "            ]))           \n",
    "        ])),\n",
    "\n",
    "        ('clf', MultiOutputClassifier(model_type))\n",
    "    ])\n",
    "    \n",
    "    # the higher the verbose number the more information is thrown\n",
    "    cv = GridSearchCV(pipeline2, param_grid=params, return_train_score=True, n_jobs=1, cv=5, verbose=2)\n",
    "    #cv = RandomizedSearchCV(pipeline2, param_distributions=params, n_jobs=1, cv=5, n_iter=8,\n",
    "    #                        verbose=2, random_state=FIXED_SEED)\n",
    "    \n",
    "    return cv"
   ]
  },
  {
   "cell_type": "markdown",
   "metadata": {},
   "source": [
    "We try this new pipeline first with the 2 other mentioned classifiers and afterwards with an additionally tuned RandomForestClassifier."
   ]
  },
  {
   "cell_type": "code",
   "execution_count": 36,
   "metadata": {},
   "outputs": [],
   "source": [
    "# create param grids for the models\n",
    "knn_param_grid  = {\n",
    "    'features__text_pipeline__tfidf__ngram_range': [(1, 2), (1,3)],\n",
    "    'clf__estimator__weights': ['uniform', 'distance']\n",
    "}\n",
    "\n",
    "rn_param_grid  = {\n",
    "    'features__text_pipeline__tfidf__ngram_range': [(1, 2), (1,3)],\n",
    "    'clf__estimator__weights': ['uniform', 'distance']\n",
    "}"
   ]
  },
  {
   "cell_type": "code",
   "execution_count": 74,
   "metadata": {},
   "outputs": [
    {
     "name": "stdout",
     "output_type": "stream",
     "text": [
      "\n",
      "----- KNeighborsClassifier with feature selection -----\n",
      "Build best model: ...\n",
      "Train model: ...\n",
      "Fitting 5 folds for each of 4 candidates, totalling 20 fits\n"
     ]
    },
    {
     "name": "stderr",
     "output_type": "stream",
     "text": [
      "[Parallel(n_jobs=1)]: Using backend SequentialBackend with 1 concurrent workers.\n"
     ]
    },
    {
     "name": "stdout",
     "output_type": "stream",
     "text": [
      "[CV] clf__estimator__weights=uniform, features__text_pipeline__tfidf__ngram_range=(1, 2) \n",
      "[CV]  clf__estimator__weights=uniform, features__text_pipeline__tfidf__ngram_range=(1, 2), total= 6.1min\n",
      "[CV] clf__estimator__weights=uniform, features__text_pipeline__tfidf__ngram_range=(1, 2) \n"
     ]
    },
    {
     "name": "stderr",
     "output_type": "stream",
     "text": [
      "[Parallel(n_jobs=1)]: Done   1 out of   1 | elapsed:  6.1min remaining:    0.0s\n"
     ]
    },
    {
     "name": "stdout",
     "output_type": "stream",
     "text": [
      "[CV]  clf__estimator__weights=uniform, features__text_pipeline__tfidf__ngram_range=(1, 2), total=12.4min\n",
      "[CV] clf__estimator__weights=uniform, features__text_pipeline__tfidf__ngram_range=(1, 2) \n",
      "[CV]  clf__estimator__weights=uniform, features__text_pipeline__tfidf__ngram_range=(1, 2), total= 6.0min\n",
      "[CV] clf__estimator__weights=uniform, features__text_pipeline__tfidf__ngram_range=(1, 2) \n",
      "[CV]  clf__estimator__weights=uniform, features__text_pipeline__tfidf__ngram_range=(1, 2), total= 5.8min\n",
      "[CV] clf__estimator__weights=uniform, features__text_pipeline__tfidf__ngram_range=(1, 2) \n",
      "[CV]  clf__estimator__weights=uniform, features__text_pipeline__tfidf__ngram_range=(1, 2), total= 5.7min\n",
      "[CV] clf__estimator__weights=uniform, features__text_pipeline__tfidf__ngram_range=(1, 3) \n",
      "[CV]  clf__estimator__weights=uniform, features__text_pipeline__tfidf__ngram_range=(1, 3), total= 5.9min\n",
      "[CV] clf__estimator__weights=uniform, features__text_pipeline__tfidf__ngram_range=(1, 3) \n",
      "[CV]  clf__estimator__weights=uniform, features__text_pipeline__tfidf__ngram_range=(1, 3), total= 6.1min\n",
      "[CV] clf__estimator__weights=uniform, features__text_pipeline__tfidf__ngram_range=(1, 3) \n",
      "[CV]  clf__estimator__weights=uniform, features__text_pipeline__tfidf__ngram_range=(1, 3), total= 6.0min\n",
      "[CV] clf__estimator__weights=uniform, features__text_pipeline__tfidf__ngram_range=(1, 3) \n",
      "[CV]  clf__estimator__weights=uniform, features__text_pipeline__tfidf__ngram_range=(1, 3), total= 5.5min\n",
      "[CV] clf__estimator__weights=uniform, features__text_pipeline__tfidf__ngram_range=(1, 3) \n",
      "[CV]  clf__estimator__weights=uniform, features__text_pipeline__tfidf__ngram_range=(1, 3), total= 6.0min\n",
      "[CV] clf__estimator__weights=distance, features__text_pipeline__tfidf__ngram_range=(1, 2) \n",
      "[CV]  clf__estimator__weights=distance, features__text_pipeline__tfidf__ngram_range=(1, 2), total= 5.8min\n",
      "[CV] clf__estimator__weights=distance, features__text_pipeline__tfidf__ngram_range=(1, 2) \n",
      "[CV]  clf__estimator__weights=distance, features__text_pipeline__tfidf__ngram_range=(1, 2), total= 5.5min\n",
      "[CV] clf__estimator__weights=distance, features__text_pipeline__tfidf__ngram_range=(1, 2) \n",
      "[CV]  clf__estimator__weights=distance, features__text_pipeline__tfidf__ngram_range=(1, 2), total= 6.0min\n",
      "[CV] clf__estimator__weights=distance, features__text_pipeline__tfidf__ngram_range=(1, 2) \n",
      "[CV]  clf__estimator__weights=distance, features__text_pipeline__tfidf__ngram_range=(1, 2), total= 5.4min\n",
      "[CV] clf__estimator__weights=distance, features__text_pipeline__tfidf__ngram_range=(1, 2) \n",
      "[CV]  clf__estimator__weights=distance, features__text_pipeline__tfidf__ngram_range=(1, 2), total= 5.7min\n",
      "[CV] clf__estimator__weights=distance, features__text_pipeline__tfidf__ngram_range=(1, 3) \n",
      "[CV]  clf__estimator__weights=distance, features__text_pipeline__tfidf__ngram_range=(1, 3), total= 4.8min\n",
      "[CV] clf__estimator__weights=distance, features__text_pipeline__tfidf__ngram_range=(1, 3) \n",
      "[CV]  clf__estimator__weights=distance, features__text_pipeline__tfidf__ngram_range=(1, 3), total= 5.9min\n",
      "[CV] clf__estimator__weights=distance, features__text_pipeline__tfidf__ngram_range=(1, 3) \n",
      "[CV]  clf__estimator__weights=distance, features__text_pipeline__tfidf__ngram_range=(1, 3), total= 5.9min\n",
      "[CV] clf__estimator__weights=distance, features__text_pipeline__tfidf__ngram_range=(1, 3) \n",
      "[CV]  clf__estimator__weights=distance, features__text_pipeline__tfidf__ngram_range=(1, 3), total= 5.4min\n",
      "[CV] clf__estimator__weights=distance, features__text_pipeline__tfidf__ngram_range=(1, 3) \n",
      "[CV]  clf__estimator__weights=distance, features__text_pipeline__tfidf__ngram_range=(1, 3), total= 5.9min\n"
     ]
    },
    {
     "name": "stderr",
     "output_type": "stream",
     "text": [
      "[Parallel(n_jobs=1)]: Done  20 out of  20 | elapsed: 121.8min finished\n"
     ]
    },
    {
     "data": {
      "text/plain": [
       "GridSearchCV(cv=5, error_score='raise-deprecating',\n",
       "             estimator=Pipeline(memory=None,\n",
       "                                steps=[('features',\n",
       "                                        FeatureUnion(n_jobs=None,\n",
       "                                                     transformer_list=[('text_pipeline',\n",
       "                                                                        Pipeline(memory=None,\n",
       "                                                                                 steps=[('tfidf',\n",
       "                                                                                         TfidfVectorizer(analyzer='word',\n",
       "                                                                                                         binary=False,\n",
       "                                                                                                         decode_error='strict',\n",
       "                                                                                                         dtype=<class 'numpy.float64'>,\n",
       "                                                                                                         encoding='utf-8',\n",
       "                                                                                                         input='content',\n",
       "                                                                                                         lowercase=True,\n",
       "                                                                                                         max_df=1....\n",
       "                                                                                             leaf_size=30,\n",
       "                                                                                             metric='minkowski',\n",
       "                                                                                             metric_params=None,\n",
       "                                                                                             n_jobs=1,\n",
       "                                                                                             n_neighbors=10,\n",
       "                                                                                             p=2,\n",
       "                                                                                             weights='uniform'),\n",
       "                                                              n_jobs=None))],\n",
       "                                verbose=False),\n",
       "             iid='warn', n_jobs=1,\n",
       "             param_grid={'clf__estimator__weights': ['uniform', 'distance'],\n",
       "                         'features__text_pipeline__tfidf__ngram_range': [(1, 2),\n",
       "                                                                         (1,\n",
       "                                                                          3)]},\n",
       "             pre_dispatch='2*n_jobs', refit=True, return_train_score=False,\n",
       "             scoring=None, verbose=2)"
      ]
     },
     "execution_count": 74,
     "metadata": {},
     "output_type": "execute_result"
    }
   ],
   "source": [
    "print(\"\\n----- KNeighborsClassifier with feature selection -----\")\n",
    "print(\"Build best model: ...\")\n",
    "cv_knn_model = build_model(KNeighborsClassifier(n_neighbors=10, n_jobs=1), knn_param_grid)\n",
    "print(\"Train model: ...\")\n",
    "cv_knn_model.fit(X_train, y_train)"
   ]
  },
  {
   "cell_type": "code",
   "execution_count": 75,
   "metadata": {},
   "outputs": [],
   "source": [
    "y_knn_pred = cv_knn_model.predict(X_test)"
   ]
  },
  {
   "cell_type": "code",
   "execution_count": 39,
   "metadata": {},
   "outputs": [
    {
     "data": {
      "text/plain": [
       "sklearn.pipeline.Pipeline"
      ]
     },
     "execution_count": 39,
     "metadata": {},
     "output_type": "execute_result"
    }
   ],
   "source": [
    "type(cv_knn_model.estimator)"
   ]
  },
  {
   "cell_type": "code",
   "execution_count": 40,
   "metadata": {},
   "outputs": [
    {
     "data": {
      "text/plain": [
       "sklearn.pipeline.FeatureUnion"
      ]
     },
     "execution_count": 40,
     "metadata": {},
     "output_type": "execute_result"
    }
   ],
   "source": [
    "type(cv_knn_model.estimator['features']) "
   ]
  },
  {
   "cell_type": "code",
   "execution_count": 41,
   "metadata": {},
   "outputs": [
    {
     "data": {
      "text/plain": [
       "tuple"
      ]
     },
     "execution_count": 41,
     "metadata": {},
     "output_type": "execute_result"
    }
   ],
   "source": [
    "type(cv_knn_model.estimator['features'].get_params()['transformer_list'][0])"
   ]
  },
  {
   "cell_type": "code",
   "execution_count": 42,
   "metadata": {},
   "outputs": [
    {
     "data": {
      "text/plain": [
       "sklearn.pipeline.Pipeline"
      ]
     },
     "execution_count": 42,
     "metadata": {},
     "output_type": "execute_result"
    }
   ],
   "source": [
    "type(cv_knn_model.estimator['features'].get_params()['transformer_list'][0][1])"
   ]
  },
  {
   "cell_type": "code",
   "execution_count": 76,
   "metadata": {},
   "outputs": [
    {
     "data": {
      "text/plain": [
       "Pipeline(memory=None,\n",
       "         steps=[('tfidf',\n",
       "                 TfidfVectorizer(analyzer='word', binary=False,\n",
       "                                 decode_error='strict',\n",
       "                                 dtype=<class 'numpy.float64'>,\n",
       "                                 encoding='utf-8', input='content',\n",
       "                                 lowercase=True, max_df=1.0, max_features=2500,\n",
       "                                 min_df=5, ngram_range=(1, 1), norm='l2',\n",
       "                                 preprocessor=None, smooth_idf=True,\n",
       "                                 stop_words=None, strip_accents=None,\n",
       "                                 sublinear_tf=True,\n",
       "                                 token_pattern='(?u)\\\\b\\\\w\\\\w+\\\\b',\n",
       "                                 tokenizer=<function tokenize at 0x0000004F491A8840>,\n",
       "                                 use_idf=True, vocabulary=None)),\n",
       "                ('best',\n",
       "                 TruncatedSVD(algorithm='randomized', n_components=30, n_iter=5,\n",
       "                              random_state=42, tol=0.0)),\n",
       "                ('normalizer', Normalizer(copy=False, norm='l2'))],\n",
       "         verbose=False)"
      ]
     },
     "execution_count": 76,
     "metadata": {},
     "output_type": "execute_result"
    }
   ],
   "source": [
    "cv_knn_model.estimator['features'].get_params()['transformer_list'][0][1]"
   ]
  },
  {
   "cell_type": "code",
   "execution_count": 77,
   "metadata": {},
   "outputs": [
    {
     "name": "stdout",
     "output_type": "stream",
     "text": [
      "Best score: 0.112\n",
      "Best parameters set:\n",
      "\tclf__estimator__weights: 'uniform'\n",
      "\tfeatures__text_pipeline__tfidf__ngram_range: (1, 2)\n"
     ]
    }
   ],
   "source": [
    "print(\"Best score: %0.3f\" % cv_knn_model.best_score_)\n",
    "print(\"Best parameters set:\")\n",
    "best_parameters = cv_knn_model.best_estimator_.get_params()\n",
    "for param_name in sorted(knn_param_grid.keys()):\n",
    "    print(\"\\t%s: %r\" % (param_name, best_parameters[param_name]))"
   ]
  },
  {
   "cell_type": "code",
   "execution_count": 78,
   "metadata": {},
   "outputs": [
    {
     "name": "stdout",
     "output_type": "stream",
     "text": [
      "\n",
      "Model evaluation on tuned KNeighborsClassifier ...\n",
      "\n",
      "First: overall accuracy score: 0.115355\n"
     ]
    },
    {
     "name": "stderr",
     "output_type": "stream",
     "text": [
      "C:\\anaconda\\anaconda3\\lib\\site-packages\\sklearn\\metrics\\classification.py:1437: UndefinedMetricWarning: Precision and F-score are ill-defined and being set to 0.0 in labels with no predicted samples.\n",
      "  'precision', 'predicted', average, warn_for)\n",
      "C:\\anaconda\\anaconda3\\lib\\site-packages\\sklearn\\metrics\\classification.py:1439: UndefinedMetricWarning: Recall and F-score are ill-defined and being set to 0.0 in labels with no true samples.\n",
      "  'recall', 'true', average, warn_for)\n"
     ]
    },
    {
     "name": "stdout",
     "output_type": "stream",
     "text": [
      "Classification Report for each target class:\n",
      "                         precision    recall  f1-score   support\n",
      "\n",
      "               related       1.00      1.00      1.00      3927\n",
      "               request       0.53      0.25      0.34       875\n",
      "                 offer       0.00      0.00      0.00        29\n",
      "           aid_related       0.58      0.51      0.54      2146\n",
      "          medical_help       0.00      0.00      0.00       386\n",
      "      medical_products       0.75      0.01      0.02       253\n",
      "     search_and_rescue       0.00      0.00      0.00       142\n",
      "              security       0.00      0.00      0.00       103\n",
      "              military       0.00      0.00      0.00       179\n",
      "           child_alone       0.00      0.00      0.00         0\n",
      "                 water       0.00      0.00      0.00       332\n",
      "                  food       0.48      0.02      0.03       553\n",
      "               shelter       0.00      0.00      0.00       456\n",
      "              clothing       0.00      0.00      0.00        85\n",
      "                 money       0.00      0.00      0.00       122\n",
      "        missing_people       0.00      0.00      0.00        68\n",
      "              refugees       0.00      0.00      0.00       174\n",
      "                 death       0.00      0.00      0.00       233\n",
      "             other_aid       0.29      0.01      0.02       696\n",
      "infrastructure_related       0.00      0.00      0.00       341\n",
      "             transport       0.00      0.00      0.00       222\n",
      "             buildings       0.00      0.00      0.00       259\n",
      "           electricity       0.00      0.00      0.00        98\n",
      "                 tools       0.00      0.00      0.00        43\n",
      "             hospitals       0.00      0.00      0.00        55\n",
      "                 shops       0.00      0.00      0.00        26\n",
      "           aid_centers       0.00      0.00      0.00        60\n",
      "  other_infrastructure       0.00      0.00      0.00       228\n",
      "       weather_related       0.57      0.30      0.39      1425\n",
      "                floods       0.33      0.00      0.01       430\n",
      "                 storm       0.59      0.09      0.15       493\n",
      "                  fire       0.00      0.00      0.00        66\n",
      "            earthquake       0.69      0.18      0.28       483\n",
      "                  cold       0.00      0.00      0.00        99\n",
      "         other_weather       0.00      0.00      0.00       247\n",
      "         direct_report       0.51      0.22      0.31       986\n",
      "\n",
      "             micro avg       0.79      0.37      0.50     16320\n",
      "             macro avg       0.18      0.07      0.09     16320\n",
      "          weighted avg       0.51      0.37      0.40     16320\n",
      "           samples avg       0.84      0.54      0.56     16320\n",
      "\n",
      "\n",
      "\n",
      "---- Best Parameters: ----\n",
      "\n",
      "Best score: 0.111988\n",
      "Best estimators parameters set:\n",
      "\t clf__estimator__weights: uniform\n",
      "\t features__text_pipeline__tfidf__ngram_range: (1, 2)\n"
     ]
    }
   ],
   "source": [
    "print(\"\\nModel evaluation on tuned KNeighborsClassifier ...\")\n",
    "display_results(TARGET_NAMES, y_test, y_knn_pred, cv_knn_model, knn_param_grid)"
   ]
  },
  {
   "cell_type": "code",
   "execution_count": 79,
   "metadata": {},
   "outputs": [
    {
     "name": "stdout",
     "output_type": "stream",
     "text": [
      "\n",
      "----- RadiusNeighborsClassifier with feature selection -----\n",
      "Build best model: ...\n",
      "Train model: ...\n",
      "Fitting 5 folds for each of 4 candidates, totalling 20 fits\n"
     ]
    },
    {
     "name": "stderr",
     "output_type": "stream",
     "text": [
      "[Parallel(n_jobs=1)]: Using backend SequentialBackend with 1 concurrent workers.\n"
     ]
    },
    {
     "name": "stdout",
     "output_type": "stream",
     "text": [
      "[CV] clf__estimator__weights=uniform, features__text_pipeline__tfidf__ngram_range=(1, 2) \n",
      "[CV]  clf__estimator__weights=uniform, features__text_pipeline__tfidf__ngram_range=(1, 2), total=16.0min\n",
      "[CV] clf__estimator__weights=uniform, features__text_pipeline__tfidf__ngram_range=(1, 2) \n"
     ]
    },
    {
     "name": "stderr",
     "output_type": "stream",
     "text": [
      "[Parallel(n_jobs=1)]: Done   1 out of   1 | elapsed: 16.0min remaining:    0.0s\n"
     ]
    },
    {
     "name": "stdout",
     "output_type": "stream",
     "text": [
      "[CV]  clf__estimator__weights=uniform, features__text_pipeline__tfidf__ngram_range=(1, 2), total=15.7min\n",
      "[CV] clf__estimator__weights=uniform, features__text_pipeline__tfidf__ngram_range=(1, 2) \n",
      "[CV]  clf__estimator__weights=uniform, features__text_pipeline__tfidf__ngram_range=(1, 2), total=16.5min\n",
      "[CV] clf__estimator__weights=uniform, features__text_pipeline__tfidf__ngram_range=(1, 2) \n",
      "[CV]  clf__estimator__weights=uniform, features__text_pipeline__tfidf__ngram_range=(1, 2), total=16.0min\n",
      "[CV] clf__estimator__weights=uniform, features__text_pipeline__tfidf__ngram_range=(1, 2) \n",
      "[CV]  clf__estimator__weights=uniform, features__text_pipeline__tfidf__ngram_range=(1, 2), total=16.4min\n",
      "[CV] clf__estimator__weights=uniform, features__text_pipeline__tfidf__ngram_range=(1, 3) \n",
      "[CV]  clf__estimator__weights=uniform, features__text_pipeline__tfidf__ngram_range=(1, 3), total=17.0min\n",
      "[CV] clf__estimator__weights=uniform, features__text_pipeline__tfidf__ngram_range=(1, 3) \n",
      "[CV]  clf__estimator__weights=uniform, features__text_pipeline__tfidf__ngram_range=(1, 3), total=16.0min\n",
      "[CV] clf__estimator__weights=uniform, features__text_pipeline__tfidf__ngram_range=(1, 3) \n",
      "[CV]  clf__estimator__weights=uniform, features__text_pipeline__tfidf__ngram_range=(1, 3), total=17.0min\n",
      "[CV] clf__estimator__weights=uniform, features__text_pipeline__tfidf__ngram_range=(1, 3) \n",
      "[CV]  clf__estimator__weights=uniform, features__text_pipeline__tfidf__ngram_range=(1, 3), total=16.0min\n",
      "[CV] clf__estimator__weights=uniform, features__text_pipeline__tfidf__ngram_range=(1, 3) \n",
      "[CV]  clf__estimator__weights=uniform, features__text_pipeline__tfidf__ngram_range=(1, 3), total=16.5min\n",
      "[CV] clf__estimator__weights=distance, features__text_pipeline__tfidf__ngram_range=(1, 2) \n",
      "[CV]  clf__estimator__weights=distance, features__text_pipeline__tfidf__ngram_range=(1, 2), total=16.4min\n",
      "[CV] clf__estimator__weights=distance, features__text_pipeline__tfidf__ngram_range=(1, 2) \n",
      "[CV]  clf__estimator__weights=distance, features__text_pipeline__tfidf__ngram_range=(1, 2), total=16.6min\n",
      "[CV] clf__estimator__weights=distance, features__text_pipeline__tfidf__ngram_range=(1, 2) \n",
      "[CV]  clf__estimator__weights=distance, features__text_pipeline__tfidf__ngram_range=(1, 2), total=17.7min\n",
      "[CV] clf__estimator__weights=distance, features__text_pipeline__tfidf__ngram_range=(1, 2) \n",
      "[CV]  clf__estimator__weights=distance, features__text_pipeline__tfidf__ngram_range=(1, 2), total=17.1min\n",
      "[CV] clf__estimator__weights=distance, features__text_pipeline__tfidf__ngram_range=(1, 2) \n",
      "[CV]  clf__estimator__weights=distance, features__text_pipeline__tfidf__ngram_range=(1, 2), total=14.6min\n",
      "[CV] clf__estimator__weights=distance, features__text_pipeline__tfidf__ngram_range=(1, 3) \n",
      "[CV]  clf__estimator__weights=distance, features__text_pipeline__tfidf__ngram_range=(1, 3), total=16.8min\n",
      "[CV] clf__estimator__weights=distance, features__text_pipeline__tfidf__ngram_range=(1, 3) \n",
      "[CV]  clf__estimator__weights=distance, features__text_pipeline__tfidf__ngram_range=(1, 3), total=16.7min\n",
      "[CV] clf__estimator__weights=distance, features__text_pipeline__tfidf__ngram_range=(1, 3) \n",
      "[CV]  clf__estimator__weights=distance, features__text_pipeline__tfidf__ngram_range=(1, 3), total=18.9min\n",
      "[CV] clf__estimator__weights=distance, features__text_pipeline__tfidf__ngram_range=(1, 3) \n",
      "[CV]  clf__estimator__weights=distance, features__text_pipeline__tfidf__ngram_range=(1, 3), total=17.0min\n",
      "[CV] clf__estimator__weights=distance, features__text_pipeline__tfidf__ngram_range=(1, 3) \n",
      "[CV]  clf__estimator__weights=distance, features__text_pipeline__tfidf__ngram_range=(1, 3), total=18.3min\n"
     ]
    },
    {
     "name": "stderr",
     "output_type": "stream",
     "text": [
      "[Parallel(n_jobs=1)]: Done  20 out of  20 | elapsed: 333.2min finished\n"
     ]
    },
    {
     "data": {
      "text/plain": [
       "GridSearchCV(cv=5, error_score='raise-deprecating',\n",
       "             estimator=Pipeline(memory=None,\n",
       "                                steps=[('features',\n",
       "                                        FeatureUnion(n_jobs=None,\n",
       "                                                     transformer_list=[('text_pipeline',\n",
       "                                                                        Pipeline(memory=None,\n",
       "                                                                                 steps=[('tfidf',\n",
       "                                                                                         TfidfVectorizer(analyzer='word',\n",
       "                                                                                                         binary=False,\n",
       "                                                                                                         decode_error='strict',\n",
       "                                                                                                         dtype=<class 'numpy.float64'>,\n",
       "                                                                                                         encoding='utf-8',\n",
       "                                                                                                         input='content',\n",
       "                                                                                                         lowercase=True,\n",
       "                                                                                                         max_df=1....\n",
       "                                                                                                  metric='minkowski',\n",
       "                                                                                                  metric_params=None,\n",
       "                                                                                                  n_jobs=1,\n",
       "                                                                                                  outlier_label=None,\n",
       "                                                                                                  p=2,\n",
       "                                                                                                  radius=1.0,\n",
       "                                                                                                  weights='uniform'),\n",
       "                                                              n_jobs=None))],\n",
       "                                verbose=False),\n",
       "             iid='warn', n_jobs=1,\n",
       "             param_grid={'clf__estimator__weights': ['uniform', 'distance'],\n",
       "                         'features__text_pipeline__tfidf__ngram_range': [(1, 2),\n",
       "                                                                         (1,\n",
       "                                                                          3)]},\n",
       "             pre_dispatch='2*n_jobs', refit=True, return_train_score=False,\n",
       "             scoring=None, verbose=2)"
      ]
     },
     "execution_count": 79,
     "metadata": {},
     "output_type": "execute_result"
    }
   ],
   "source": [
    "print(\"\\n----- RadiusNeighborsClassifier with feature selection -----\")\n",
    "print(\"Build best model: ...\")\n",
    "cv_rn_model = build_model(RadiusNeighborsClassifier(n_jobs=1), rn_param_grid)\n",
    "print(\"Train model: ...\")\n",
    "cv_rn_model.fit(X_train, y_train)"
   ]
  },
  {
   "cell_type": "code",
   "execution_count": 80,
   "metadata": {},
   "outputs": [],
   "source": [
    "y_rn_pred = cv_rn_model.predict(X_test)"
   ]
  },
  {
   "cell_type": "code",
   "execution_count": 81,
   "metadata": {},
   "outputs": [
    {
     "name": "stdout",
     "output_type": "stream",
     "text": [
      "\n",
      "Model evaluation on tuned RadiusNeighborsClassifier ...\n",
      "\n",
      "First: overall accuracy score: 0.023428\n"
     ]
    },
    {
     "name": "stderr",
     "output_type": "stream",
     "text": [
      "C:\\anaconda\\anaconda3\\lib\\site-packages\\sklearn\\metrics\\classification.py:1437: UndefinedMetricWarning: Precision and F-score are ill-defined and being set to 0.0 in labels with no predicted samples.\n",
      "  'precision', 'predicted', average, warn_for)\n",
      "C:\\anaconda\\anaconda3\\lib\\site-packages\\sklearn\\metrics\\classification.py:1439: UndefinedMetricWarning: Recall and F-score are ill-defined and being set to 0.0 in labels with no true samples.\n",
      "  'recall', 'true', average, warn_for)\n"
     ]
    },
    {
     "name": "stdout",
     "output_type": "stream",
     "text": [
      "Classification Report for each target class:\n",
      "                         precision    recall  f1-score   support\n",
      "\n",
      "               related       1.00      1.00      1.00      3927\n",
      "               request       0.57      0.15      0.24       875\n",
      "                 offer       0.00      0.00      0.00        29\n",
      "           aid_related       0.57      0.90      0.69      2146\n",
      "          medical_help       0.00      0.00      0.00       386\n",
      "      medical_products       0.00      0.00      0.00       253\n",
      "     search_and_rescue       0.00      0.00      0.00       142\n",
      "              security       0.00      0.00      0.00       103\n",
      "              military       0.00      0.00      0.00       179\n",
      "           child_alone       0.00      0.00      0.00         0\n",
      "                 water       0.00      0.00      0.00       332\n",
      "                  food       0.00      0.00      0.00       553\n",
      "               shelter       0.00      0.00      0.00       456\n",
      "              clothing       0.00      0.00      0.00        85\n",
      "                 money       0.00      0.00      0.00       122\n",
      "        missing_people       0.00      0.00      0.00        68\n",
      "              refugees       0.00      0.00      0.00       174\n",
      "                 death       0.00      0.00      0.00       233\n",
      "             other_aid       0.00      0.00      0.00       696\n",
      "infrastructure_related       0.00      0.00      0.00       341\n",
      "             transport       0.00      0.00      0.00       222\n",
      "             buildings       0.00      0.00      0.00       259\n",
      "           electricity       0.00      0.00      0.00        98\n",
      "                 tools       0.00      0.00      0.00        43\n",
      "             hospitals       0.00      0.00      0.00        55\n",
      "                 shops       0.00      0.00      0.00        26\n",
      "           aid_centers       0.00      0.00      0.00        60\n",
      "  other_infrastructure       0.00      0.00      0.00       228\n",
      "       weather_related       0.63      0.21      0.32      1425\n",
      "                floods       0.00      0.00      0.00       430\n",
      "                 storm       0.58      0.08      0.14       493\n",
      "                  fire       0.00      0.00      0.00        66\n",
      "            earthquake       0.73      0.17      0.28       483\n",
      "                  cold       0.00      0.00      0.00        99\n",
      "         other_weather       0.00      0.00      0.00       247\n",
      "         direct_report       0.55      0.11      0.19       986\n",
      "\n",
      "             micro avg       0.77      0.40      0.53     16320\n",
      "             macro avg       0.13      0.07      0.08     16320\n",
      "          weighted avg       0.47      0.40      0.40     16320\n",
      "           samples avg       0.78      0.56      0.56     16320\n",
      "\n",
      "\n",
      "\n",
      "---- Best Parameters: ----\n",
      "\n",
      "Best score: 0.026549\n",
      "Best estimators parameters set:\n",
      "\t clf__estimator__weights: distance\n",
      "\t features__text_pipeline__tfidf__ngram_range: (1, 3)\n"
     ]
    }
   ],
   "source": [
    "print(\"\\nModel evaluation on tuned RadiusNeighborsClassifier ...\")\n",
    "display_results(TARGET_NAMES, y_test, y_rn_pred, cv_rn_model, rn_param_grid)"
   ]
  },
  {
   "cell_type": "markdown",
   "metadata": {},
   "source": [
    "Regarding the evaluation results of both new models, it is worse and not acceptable comparing the single target features. Nevertheless, the KNeighborsClassifier has a better best score value compared to the RandomForestClassifier without decomposition. Would the feature selection and decomposition improve the RandomForestClassifier?"
   ]
  },
  {
   "cell_type": "code",
   "execution_count": 83,
   "metadata": {},
   "outputs": [],
   "source": [
    "better_rfc_param_grid = {\n",
    "    'features__text_pipeline__tfidf__ngram_range': [(1,2), (1,3)],\n",
    "    'clf__estimator__n_estimators': [2000, 2500],\n",
    "    'clf__estimator__max_depth': [10, 20],\n",
    "    'clf__estimator__class_weight': ['balanced']\n",
    "}"
   ]
  },
  {
   "cell_type": "code",
   "execution_count": null,
   "metadata": {},
   "outputs": [
    {
     "name": "stdout",
     "output_type": "stream",
     "text": [
      "\n",
      "----- RandomForestClassifier with feature selection and better param grid -----\n",
      "Build best model: ...\n",
      "Train model: ...\n",
      "Fitting 5 folds for each of 8 candidates, totalling 40 fits\n"
     ]
    },
    {
     "name": "stderr",
     "output_type": "stream",
     "text": [
      "[Parallel(n_jobs=1)]: Using backend SequentialBackend with 1 concurrent workers.\n"
     ]
    },
    {
     "name": "stdout",
     "output_type": "stream",
     "text": [
      "[CV] clf__estimator__class_weight=balanced, clf__estimator__max_depth=10, clf__estimator__n_estimators=2000, features__text_pipeline__tfidf__ngram_range=(1, 2) \n",
      "[CV]  clf__estimator__class_weight=balanced, clf__estimator__max_depth=10, clf__estimator__n_estimators=2000, features__text_pipeline__tfidf__ngram_range=(1, 2), total=504.3min\n"
     ]
    },
    {
     "name": "stderr",
     "output_type": "stream",
     "text": [
      "[Parallel(n_jobs=1)]: Done   1 out of   1 | elapsed: 573.6min remaining:    0.0s\n"
     ]
    },
    {
     "name": "stdout",
     "output_type": "stream",
     "text": [
      "[CV] clf__estimator__class_weight=balanced, clf__estimator__max_depth=10, clf__estimator__n_estimators=2000, features__text_pipeline__tfidf__ngram_range=(1, 2) \n",
      "[CV]  clf__estimator__class_weight=balanced, clf__estimator__max_depth=10, clf__estimator__n_estimators=2000, features__text_pipeline__tfidf__ngram_range=(1, 2), total=520.4min\n",
      "[CV] clf__estimator__class_weight=balanced, clf__estimator__max_depth=10, clf__estimator__n_estimators=2000, features__text_pipeline__tfidf__ngram_range=(1, 2) \n",
      "[CV]  clf__estimator__class_weight=balanced, clf__estimator__max_depth=10, clf__estimator__n_estimators=2000, features__text_pipeline__tfidf__ngram_range=(1, 2), total=391.1min\n",
      "[CV] clf__estimator__class_weight=balanced, clf__estimator__max_depth=10, clf__estimator__n_estimators=2000, features__text_pipeline__tfidf__ngram_range=(1, 2) \n"
     ]
    }
   ],
   "source": [
    "print(\"\\n----- RandomForestClassifier with feature selection and better param grid -----\")\n",
    "print(\"Build best model: ...\")\n",
    "cv_better_rfc_model = build_model(RandomForestClassifier(n_jobs=1, random_state=FIXED_SEED),\n",
    "                                  better_rfc_param_grid)\n",
    "print(\"Train model: ...\")\n",
    "cv_better_rfc_model.fit(X_train, y_train)"
   ]
  },
  {
   "cell_type": "code",
   "execution_count": 53,
   "metadata": {},
   "outputs": [],
   "source": [
    "y_better_rfc_pred = cv_better_rfc_model.predict(X_test)"
   ]
  },
  {
   "cell_type": "code",
   "execution_count": 54,
   "metadata": {},
   "outputs": [
    {
     "name": "stdout",
     "output_type": "stream",
     "text": [
      "\n",
      "Model evaluation on secondly tuned RandomForestClassifier with feature selection...\n",
      "\n",
      "First: overall accuracy score: 0.070028\n"
     ]
    },
    {
     "name": "stderr",
     "output_type": "stream",
     "text": [
      "C:\\anaconda\\anaconda3\\lib\\site-packages\\sklearn\\metrics\\classification.py:1437: UndefinedMetricWarning: Precision and F-score are ill-defined and being set to 0.0 in labels with no predicted samples.\n",
      "  'precision', 'predicted', average, warn_for)\n",
      "C:\\anaconda\\anaconda3\\lib\\site-packages\\sklearn\\metrics\\classification.py:1439: UndefinedMetricWarning: Recall and F-score are ill-defined and being set to 0.0 in labels with no true samples.\n",
      "  'recall', 'true', average, warn_for)\n"
     ]
    },
    {
     "name": "stdout",
     "output_type": "stream",
     "text": [
      "Classification Report for each target class:\n",
      "                         precision    recall  f1-score   support\n",
      "\n",
      "               related       1.00      1.00      1.00      3927\n",
      "               request       0.45      0.32      0.37       875\n",
      "                 offer       0.00      0.00      0.00        29\n",
      "           aid_related       0.56      0.55      0.55      2146\n",
      "          medical_help       0.13      0.05      0.07       386\n",
      "      medical_products       0.06      0.01      0.01       253\n",
      "     search_and_rescue       0.00      0.00      0.00       142\n",
      "              security       0.00      0.00      0.00       103\n",
      "              military       0.00      0.00      0.00       179\n",
      "           child_alone       0.00      0.00      0.00         0\n",
      "                 water       0.17      0.02      0.04       332\n",
      "                  food       0.18      0.05      0.08       553\n",
      "               shelter       0.06      0.01      0.02       456\n",
      "              clothing       0.33      0.01      0.02        85\n",
      "                 money       0.00      0.00      0.00       122\n",
      "        missing_people       0.00      0.00      0.00        68\n",
      "              refugees       0.03      0.01      0.01       174\n",
      "                 death       0.17      0.04      0.06       233\n",
      "             other_aid       0.19      0.06      0.09       696\n",
      "infrastructure_related       0.13      0.04      0.06       341\n",
      "             transport       0.05      0.01      0.02       222\n",
      "             buildings       0.06      0.01      0.02       259\n",
      "           electricity       0.00      0.00      0.00        98\n",
      "                 tools       0.00      0.00      0.00        43\n",
      "             hospitals       0.00      0.00      0.00        55\n",
      "                 shops       0.00      0.00      0.00        26\n",
      "           aid_centers       0.00      0.00      0.00        60\n",
      "  other_infrastructure       0.05      0.01      0.02       228\n",
      "       weather_related       0.42      0.42      0.42      1425\n",
      "                floods       0.16      0.12      0.14       430\n",
      "                 storm       0.19      0.09      0.12       493\n",
      "                  fire       0.00      0.00      0.00        66\n",
      "            earthquake       0.36      0.12      0.18       483\n",
      "                  cold       0.07      0.01      0.02        99\n",
      "         other_weather       0.08      0.04      0.06       247\n",
      "         direct_report       0.42      0.30      0.35       986\n",
      "\n",
      "             micro avg       0.61      0.40      0.49     16320\n",
      "             macro avg       0.15      0.09      0.10     16320\n",
      "          weighted avg       0.46      0.40      0.42     16320\n",
      "           samples avg       0.70      0.56      0.52     16320\n",
      "\n",
      "\n",
      "\n",
      "---- Best Parameters: ----\n",
      "\n",
      "Best score: 0.064366\n",
      "Best estimators parameters set:\n",
      "\t clf__estimator__class_weight: balanced\n",
      "\t clf__estimator__max_depth: 20\n",
      "\t clf__estimator__n_estimators: 2000\n",
      "\t features__text_pipeline__tfidf__ngram_range: (1, 3)\n"
     ]
    }
   ],
   "source": [
    "print(\"\\nModel evaluation on secondly tuned RandomForestClassifier with feature selection...\")\n",
    "display_results(TARGET_NAMES, y_test, y_better_rfc_pred, cv_better_rfc_model, better_rfc_param_grid)"
   ]
  },
  {
   "cell_type": "markdown",
   "metadata": {},
   "source": [
    "**Note**:<br>\n",
    "For the RandomForestClassier the usage of the feature selection improves the accuracy only a little bit, there are still much categories set to 0.0 and having a low best score and still a lot of false negatives when precision is much higher compared to the associated recall value. Next, we add a <i>Normalizer</i> and will have a look if this improves the feature selection result. Furthermore, we test if the randomized cross validation search is much faster."
   ]
  },
  {
   "cell_type": "code",
   "execution_count": 64,
   "metadata": {},
   "outputs": [
    {
     "name": "stdout",
     "output_type": "stream",
     "text": [
      "\n",
      "----- RandomForestClassifier with feature selection, Normalizer, better param grid and RandomizedSearchCV -----\n",
      "Build best model: ...\n",
      "Train model: ...\n",
      "Fitting 5 folds for each of 8 candidates, totalling 40 fits\n"
     ]
    },
    {
     "name": "stderr",
     "output_type": "stream",
     "text": [
      "[Parallel(n_jobs=1)]: Using backend SequentialBackend with 1 concurrent workers.\n"
     ]
    },
    {
     "name": "stdout",
     "output_type": "stream",
     "text": [
      "[CV] features__text_pipeline__tfidf__ngram_range=(1, 2), clf__estimator__n_estimators=2000, clf__estimator__max_depth=10, clf__estimator__class_weight=balanced \n",
      "[CV]  features__text_pipeline__tfidf__ngram_range=(1, 2), clf__estimator__n_estimators=2000, clf__estimator__max_depth=10, clf__estimator__class_weight=balanced, total=216.2min\n",
      "[CV] features__text_pipeline__tfidf__ngram_range=(1, 2), clf__estimator__n_estimators=2000, clf__estimator__max_depth=10, clf__estimator__class_weight=balanced \n"
     ]
    },
    {
     "name": "stderr",
     "output_type": "stream",
     "text": [
      "[Parallel(n_jobs=1)]: Done   1 out of   1 | elapsed: 216.2min remaining:    0.0s\n"
     ]
    },
    {
     "name": "stdout",
     "output_type": "stream",
     "text": [
      "[CV]  features__text_pipeline__tfidf__ngram_range=(1, 2), clf__estimator__n_estimators=2000, clf__estimator__max_depth=10, clf__estimator__class_weight=balanced, total=165.6min\n",
      "[CV] features__text_pipeline__tfidf__ngram_range=(1, 2), clf__estimator__n_estimators=2000, clf__estimator__max_depth=10, clf__estimator__class_weight=balanced \n",
      "[CV]  features__text_pipeline__tfidf__ngram_range=(1, 2), clf__estimator__n_estimators=2000, clf__estimator__max_depth=10, clf__estimator__class_weight=balanced, total=160.5min\n",
      "[CV] features__text_pipeline__tfidf__ngram_range=(1, 2), clf__estimator__n_estimators=2000, clf__estimator__max_depth=10, clf__estimator__class_weight=balanced \n",
      "[CV]  features__text_pipeline__tfidf__ngram_range=(1, 2), clf__estimator__n_estimators=2000, clf__estimator__max_depth=10, clf__estimator__class_weight=balanced, total=158.0min\n",
      "[CV] features__text_pipeline__tfidf__ngram_range=(1, 2), clf__estimator__n_estimators=2000, clf__estimator__max_depth=10, clf__estimator__class_weight=balanced \n",
      "[CV]  features__text_pipeline__tfidf__ngram_range=(1, 2), clf__estimator__n_estimators=2000, clf__estimator__max_depth=10, clf__estimator__class_weight=balanced, total=164.2min\n",
      "[CV] features__text_pipeline__tfidf__ngram_range=(1, 3), clf__estimator__n_estimators=2000, clf__estimator__max_depth=10, clf__estimator__class_weight=balanced \n",
      "[CV]  features__text_pipeline__tfidf__ngram_range=(1, 3), clf__estimator__n_estimators=2000, clf__estimator__max_depth=10, clf__estimator__class_weight=balanced, total=174.0min\n",
      "[CV] features__text_pipeline__tfidf__ngram_range=(1, 3), clf__estimator__n_estimators=2000, clf__estimator__max_depth=10, clf__estimator__class_weight=balanced \n",
      "[CV]  features__text_pipeline__tfidf__ngram_range=(1, 3), clf__estimator__n_estimators=2000, clf__estimator__max_depth=10, clf__estimator__class_weight=balanced, total=185.5min\n",
      "[CV] features__text_pipeline__tfidf__ngram_range=(1, 3), clf__estimator__n_estimators=2000, clf__estimator__max_depth=10, clf__estimator__class_weight=balanced \n",
      "[CV]  features__text_pipeline__tfidf__ngram_range=(1, 3), clf__estimator__n_estimators=2000, clf__estimator__max_depth=10, clf__estimator__class_weight=balanced, total=159.4min\n",
      "[CV] features__text_pipeline__tfidf__ngram_range=(1, 3), clf__estimator__n_estimators=2000, clf__estimator__max_depth=10, clf__estimator__class_weight=balanced \n",
      "[CV]  features__text_pipeline__tfidf__ngram_range=(1, 3), clf__estimator__n_estimators=2000, clf__estimator__max_depth=10, clf__estimator__class_weight=balanced, total=163.5min\n",
      "[CV] features__text_pipeline__tfidf__ngram_range=(1, 3), clf__estimator__n_estimators=2000, clf__estimator__max_depth=10, clf__estimator__class_weight=balanced \n",
      "[CV]  features__text_pipeline__tfidf__ngram_range=(1, 3), clf__estimator__n_estimators=2000, clf__estimator__max_depth=10, clf__estimator__class_weight=balanced, total=168.2min\n",
      "[CV] features__text_pipeline__tfidf__ngram_range=(1, 2), clf__estimator__n_estimators=3000, clf__estimator__max_depth=10, clf__estimator__class_weight=balanced \n",
      "[CV]  features__text_pipeline__tfidf__ngram_range=(1, 2), clf__estimator__n_estimators=3000, clf__estimator__max_depth=10, clf__estimator__class_weight=balanced, total=277.7min\n",
      "[CV] features__text_pipeline__tfidf__ngram_range=(1, 2), clf__estimator__n_estimators=3000, clf__estimator__max_depth=10, clf__estimator__class_weight=balanced \n",
      "[CV]  features__text_pipeline__tfidf__ngram_range=(1, 2), clf__estimator__n_estimators=3000, clf__estimator__max_depth=10, clf__estimator__class_weight=balanced, total=234.6min\n",
      "[CV] features__text_pipeline__tfidf__ngram_range=(1, 2), clf__estimator__n_estimators=3000, clf__estimator__max_depth=10, clf__estimator__class_weight=balanced \n",
      "[CV]  features__text_pipeline__tfidf__ngram_range=(1, 2), clf__estimator__n_estimators=3000, clf__estimator__max_depth=10, clf__estimator__class_weight=balanced, total=144.0min\n",
      "[CV] features__text_pipeline__tfidf__ngram_range=(1, 2), clf__estimator__n_estimators=3000, clf__estimator__max_depth=10, clf__estimator__class_weight=balanced \n",
      "[CV]  features__text_pipeline__tfidf__ngram_range=(1, 2), clf__estimator__n_estimators=3000, clf__estimator__max_depth=10, clf__estimator__class_weight=balanced, total=143.9min\n",
      "[CV] features__text_pipeline__tfidf__ngram_range=(1, 2), clf__estimator__n_estimators=3000, clf__estimator__max_depth=10, clf__estimator__class_weight=balanced \n",
      "[CV]  features__text_pipeline__tfidf__ngram_range=(1, 2), clf__estimator__n_estimators=3000, clf__estimator__max_depth=10, clf__estimator__class_weight=balanced, total=138.3min\n",
      "[CV] features__text_pipeline__tfidf__ngram_range=(1, 3), clf__estimator__n_estimators=3000, clf__estimator__max_depth=10, clf__estimator__class_weight=balanced \n",
      "[CV]  features__text_pipeline__tfidf__ngram_range=(1, 3), clf__estimator__n_estimators=3000, clf__estimator__max_depth=10, clf__estimator__class_weight=balanced, total=141.7min\n",
      "[CV] features__text_pipeline__tfidf__ngram_range=(1, 3), clf__estimator__n_estimators=3000, clf__estimator__max_depth=10, clf__estimator__class_weight=balanced \n",
      "[CV]  features__text_pipeline__tfidf__ngram_range=(1, 3), clf__estimator__n_estimators=3000, clf__estimator__max_depth=10, clf__estimator__class_weight=balanced, total=141.7min\n",
      "[CV] features__text_pipeline__tfidf__ngram_range=(1, 3), clf__estimator__n_estimators=3000, clf__estimator__max_depth=10, clf__estimator__class_weight=balanced \n",
      "[CV]  features__text_pipeline__tfidf__ngram_range=(1, 3), clf__estimator__n_estimators=3000, clf__estimator__max_depth=10, clf__estimator__class_weight=balanced, total=132.0min\n",
      "[CV] features__text_pipeline__tfidf__ngram_range=(1, 3), clf__estimator__n_estimators=3000, clf__estimator__max_depth=10, clf__estimator__class_weight=balanced \n",
      "[CV]  features__text_pipeline__tfidf__ngram_range=(1, 3), clf__estimator__n_estimators=3000, clf__estimator__max_depth=10, clf__estimator__class_weight=balanced, total=150.3min\n",
      "[CV] features__text_pipeline__tfidf__ngram_range=(1, 3), clf__estimator__n_estimators=3000, clf__estimator__max_depth=10, clf__estimator__class_weight=balanced \n",
      "[CV]  features__text_pipeline__tfidf__ngram_range=(1, 3), clf__estimator__n_estimators=3000, clf__estimator__max_depth=10, clf__estimator__class_weight=balanced, total=135.7min\n",
      "[CV] features__text_pipeline__tfidf__ngram_range=(1, 2), clf__estimator__n_estimators=2000, clf__estimator__max_depth=20, clf__estimator__class_weight=balanced \n",
      "[CV]  features__text_pipeline__tfidf__ngram_range=(1, 2), clf__estimator__n_estimators=2000, clf__estimator__max_depth=20, clf__estimator__class_weight=balanced, total=203.8min\n",
      "[CV] features__text_pipeline__tfidf__ngram_range=(1, 2), clf__estimator__n_estimators=2000, clf__estimator__max_depth=20, clf__estimator__class_weight=balanced \n",
      "[CV]  features__text_pipeline__tfidf__ngram_range=(1, 2), clf__estimator__n_estimators=2000, clf__estimator__max_depth=20, clf__estimator__class_weight=balanced, total=188.6min\n",
      "[CV] features__text_pipeline__tfidf__ngram_range=(1, 2), clf__estimator__n_estimators=2000, clf__estimator__max_depth=20, clf__estimator__class_weight=balanced \n",
      "[CV]  features__text_pipeline__tfidf__ngram_range=(1, 2), clf__estimator__n_estimators=2000, clf__estimator__max_depth=20, clf__estimator__class_weight=balanced, total=186.9min\n",
      "[CV] features__text_pipeline__tfidf__ngram_range=(1, 2), clf__estimator__n_estimators=2000, clf__estimator__max_depth=20, clf__estimator__class_weight=balanced \n",
      "[CV]  features__text_pipeline__tfidf__ngram_range=(1, 2), clf__estimator__n_estimators=2000, clf__estimator__max_depth=20, clf__estimator__class_weight=balanced, total=191.4min\n",
      "[CV] features__text_pipeline__tfidf__ngram_range=(1, 2), clf__estimator__n_estimators=2000, clf__estimator__max_depth=20, clf__estimator__class_weight=balanced \n",
      "[CV]  features__text_pipeline__tfidf__ngram_range=(1, 2), clf__estimator__n_estimators=2000, clf__estimator__max_depth=20, clf__estimator__class_weight=balanced, total=197.7min\n",
      "[CV] features__text_pipeline__tfidf__ngram_range=(1, 3), clf__estimator__n_estimators=2000, clf__estimator__max_depth=20, clf__estimator__class_weight=balanced \n",
      "[CV]  features__text_pipeline__tfidf__ngram_range=(1, 3), clf__estimator__n_estimators=2000, clf__estimator__max_depth=20, clf__estimator__class_weight=balanced, total=197.4min\n",
      "[CV] features__text_pipeline__tfidf__ngram_range=(1, 3), clf__estimator__n_estimators=2000, clf__estimator__max_depth=20, clf__estimator__class_weight=balanced \n"
     ]
    },
    {
     "name": "stdout",
     "output_type": "stream",
     "text": [
      "[CV]  features__text_pipeline__tfidf__ngram_range=(1, 3), clf__estimator__n_estimators=2000, clf__estimator__max_depth=20, clf__estimator__class_weight=balanced, total=195.5min\n",
      "[CV] features__text_pipeline__tfidf__ngram_range=(1, 3), clf__estimator__n_estimators=2000, clf__estimator__max_depth=20, clf__estimator__class_weight=balanced \n",
      "[CV]  features__text_pipeline__tfidf__ngram_range=(1, 3), clf__estimator__n_estimators=2000, clf__estimator__max_depth=20, clf__estimator__class_weight=balanced, total=204.4min\n",
      "[CV] features__text_pipeline__tfidf__ngram_range=(1, 3), clf__estimator__n_estimators=2000, clf__estimator__max_depth=20, clf__estimator__class_weight=balanced \n",
      "[CV]  features__text_pipeline__tfidf__ngram_range=(1, 3), clf__estimator__n_estimators=2000, clf__estimator__max_depth=20, clf__estimator__class_weight=balanced, total=214.6min\n",
      "[CV] features__text_pipeline__tfidf__ngram_range=(1, 3), clf__estimator__n_estimators=2000, clf__estimator__max_depth=20, clf__estimator__class_weight=balanced \n",
      "[CV]  features__text_pipeline__tfidf__ngram_range=(1, 3), clf__estimator__n_estimators=2000, clf__estimator__max_depth=20, clf__estimator__class_weight=balanced, total=199.9min\n",
      "[CV] features__text_pipeline__tfidf__ngram_range=(1, 2), clf__estimator__n_estimators=3000, clf__estimator__max_depth=20, clf__estimator__class_weight=balanced \n",
      "[CV]  features__text_pipeline__tfidf__ngram_range=(1, 2), clf__estimator__n_estimators=3000, clf__estimator__max_depth=20, clf__estimator__class_weight=balanced, total=335.6min\n",
      "[CV] features__text_pipeline__tfidf__ngram_range=(1, 2), clf__estimator__n_estimators=3000, clf__estimator__max_depth=20, clf__estimator__class_weight=balanced \n",
      "[CV]  features__text_pipeline__tfidf__ngram_range=(1, 2), clf__estimator__n_estimators=3000, clf__estimator__max_depth=20, clf__estimator__class_weight=balanced, total=341.6min\n",
      "[CV] features__text_pipeline__tfidf__ngram_range=(1, 2), clf__estimator__n_estimators=3000, clf__estimator__max_depth=20, clf__estimator__class_weight=balanced \n",
      "[CV]  features__text_pipeline__tfidf__ngram_range=(1, 2), clf__estimator__n_estimators=3000, clf__estimator__max_depth=20, clf__estimator__class_weight=balanced, total=328.1min\n",
      "[CV] features__text_pipeline__tfidf__ngram_range=(1, 2), clf__estimator__n_estimators=3000, clf__estimator__max_depth=20, clf__estimator__class_weight=balanced \n",
      "[CV]  features__text_pipeline__tfidf__ngram_range=(1, 2), clf__estimator__n_estimators=3000, clf__estimator__max_depth=20, clf__estimator__class_weight=balanced, total=361.7min\n",
      "[CV] features__text_pipeline__tfidf__ngram_range=(1, 2), clf__estimator__n_estimators=3000, clf__estimator__max_depth=20, clf__estimator__class_weight=balanced \n",
      "[CV]  features__text_pipeline__tfidf__ngram_range=(1, 2), clf__estimator__n_estimators=3000, clf__estimator__max_depth=20, clf__estimator__class_weight=balanced, total=377.8min\n",
      "[CV] features__text_pipeline__tfidf__ngram_range=(1, 3), clf__estimator__n_estimators=3000, clf__estimator__max_depth=20, clf__estimator__class_weight=balanced \n",
      "[CV]  features__text_pipeline__tfidf__ngram_range=(1, 3), clf__estimator__n_estimators=3000, clf__estimator__max_depth=20, clf__estimator__class_weight=balanced, total=354.7min\n",
      "[CV] features__text_pipeline__tfidf__ngram_range=(1, 3), clf__estimator__n_estimators=3000, clf__estimator__max_depth=20, clf__estimator__class_weight=balanced \n",
      "[CV]  features__text_pipeline__tfidf__ngram_range=(1, 3), clf__estimator__n_estimators=3000, clf__estimator__max_depth=20, clf__estimator__class_weight=balanced, total=395.9min\n",
      "[CV] features__text_pipeline__tfidf__ngram_range=(1, 3), clf__estimator__n_estimators=3000, clf__estimator__max_depth=20, clf__estimator__class_weight=balanced \n",
      "[CV]  features__text_pipeline__tfidf__ngram_range=(1, 3), clf__estimator__n_estimators=3000, clf__estimator__max_depth=20, clf__estimator__class_weight=balanced, total=398.8min\n",
      "[CV] features__text_pipeline__tfidf__ngram_range=(1, 3), clf__estimator__n_estimators=3000, clf__estimator__max_depth=20, clf__estimator__class_weight=balanced \n",
      "[CV]  features__text_pipeline__tfidf__ngram_range=(1, 3), clf__estimator__n_estimators=3000, clf__estimator__max_depth=20, clf__estimator__class_weight=balanced, total=392.2min\n",
      "[CV] features__text_pipeline__tfidf__ngram_range=(1, 3), clf__estimator__n_estimators=3000, clf__estimator__max_depth=20, clf__estimator__class_weight=balanced \n",
      "[CV]  features__text_pipeline__tfidf__ngram_range=(1, 3), clf__estimator__n_estimators=3000, clf__estimator__max_depth=20, clf__estimator__class_weight=balanced, total=390.4min\n"
     ]
    },
    {
     "name": "stderr",
     "output_type": "stream",
     "text": [
      "[Parallel(n_jobs=1)]: Done  40 out of  40 | elapsed: 9501.6min finished\n"
     ]
    },
    {
     "data": {
      "text/plain": [
       "RandomizedSearchCV(cv=5, error_score='raise-deprecating',\n",
       "                   estimator=Pipeline(memory=None,\n",
       "                                      steps=[('features',\n",
       "                                              FeatureUnion(n_jobs=None,\n",
       "                                                           transformer_list=[('text_pipeline',\n",
       "                                                                              Pipeline(memory=None,\n",
       "                                                                                       steps=[('tfidf',\n",
       "                                                                                               TfidfVectorizer(analyzer='word',\n",
       "                                                                                                               binary=False,\n",
       "                                                                                                               decode_error='strict',\n",
       "                                                                                                               dtype=<class 'numpy.float64'>,\n",
       "                                                                                                               encoding='utf-8',\n",
       "                                                                                                               input='content',\n",
       "                                                                                                               lowercase=True,\n",
       "                                                                                                               max...\n",
       "                                                                    n_jobs=None))],\n",
       "                                      verbose=False),\n",
       "                   iid='warn', n_iter=8, n_jobs=1,\n",
       "                   param_distributions={'clf__estimator__class_weight': ['balanced'],\n",
       "                                        'clf__estimator__max_depth': [10, 20],\n",
       "                                        'clf__estimator__n_estimators': [2000,\n",
       "                                                                         3000],\n",
       "                                        'features__text_pipeline__tfidf__ngram_range': [(1,\n",
       "                                                                                         2),\n",
       "                                                                                        (1,\n",
       "                                                                                         3)]},\n",
       "                   pre_dispatch='2*n_jobs', random_state=42, refit=True,\n",
       "                   return_train_score=False, scoring=None, verbose=2)"
      ]
     },
     "execution_count": 64,
     "metadata": {},
     "output_type": "execute_result"
    }
   ],
   "source": [
    "# try it again with added Normalizer in pipeline and RandomizedSearchCV\n",
    "print(\"\\n----- RandomForestClassifier with feature selection, Normalizer, better param grid and RandomizedSearchCV -----\")\n",
    "print(\"Build best model: ...\")\n",
    "randomcv_better_rfc_model = build_model(RandomForestClassifier(n_jobs=1, random_state=FIXED_SEED),\n",
    "                                        better_rfc_param_grid)\n",
    "print(\"Train model: ...\")\n",
    "randomcv_better_rfc_model.fit(X_train, y_train)"
   ]
  },
  {
   "cell_type": "code",
   "execution_count": 65,
   "metadata": {},
   "outputs": [],
   "source": [
    "randomy_better_rfc_pred = randomcv_better_rfc_model.predict(X_test)"
   ]
  },
  {
   "cell_type": "code",
   "execution_count": 66,
   "metadata": {},
   "outputs": [
    {
     "name": "stdout",
     "output_type": "stream",
     "text": [
      "\n",
      "Model evaluation on third tuned RandomForestClassifier with feature selection, normalizer and RandomizedSearch ...\n",
      "\n",
      "First: overall accuracy score: 0.057296\n"
     ]
    },
    {
     "name": "stderr",
     "output_type": "stream",
     "text": [
      "C:\\anaconda\\anaconda3\\lib\\site-packages\\sklearn\\metrics\\classification.py:1437: UndefinedMetricWarning: Precision and F-score are ill-defined and being set to 0.0 in labels with no predicted samples.\n",
      "  'precision', 'predicted', average, warn_for)\n",
      "C:\\anaconda\\anaconda3\\lib\\site-packages\\sklearn\\metrics\\classification.py:1439: UndefinedMetricWarning: Recall and F-score are ill-defined and being set to 0.0 in labels with no true samples.\n",
      "  'recall', 'true', average, warn_for)\n"
     ]
    },
    {
     "name": "stdout",
     "output_type": "stream",
     "text": [
      "Classification Report for each target class:\n",
      "                         precision    recall  f1-score   support\n",
      "\n",
      "               related       1.00      1.00      1.00      3927\n",
      "               request       0.29      0.25      0.27       875\n",
      "                 offer       0.00      0.00      0.00        29\n",
      "           aid_related       0.56      0.57      0.56      2146\n",
      "          medical_help       0.10      0.13      0.11       386\n",
      "      medical_products       0.06      0.07      0.06       253\n",
      "     search_and_rescue       0.02      0.02      0.02       142\n",
      "              security       0.04      0.04      0.04       103\n",
      "              military       0.07      0.09      0.08       179\n",
      "           child_alone       0.00      0.00      0.00         0\n",
      "                 water       0.10      0.08      0.09       332\n",
      "                  food       0.16      0.16      0.16       553\n",
      "               shelter       0.11      0.09      0.10       456\n",
      "              clothing       0.03      0.02      0.03        85\n",
      "                 money       0.02      0.02      0.02       122\n",
      "        missing_people       0.00      0.00      0.00        68\n",
      "              refugees       0.07      0.08      0.08       174\n",
      "                 death       0.09      0.09      0.09       233\n",
      "             other_aid       0.19      0.16      0.17       696\n",
      "infrastructure_related       0.08      0.10      0.09       341\n",
      "             transport       0.09      0.11      0.10       222\n",
      "             buildings       0.05      0.05      0.05       259\n",
      "           electricity       0.02      0.02      0.02        98\n",
      "                 tools       0.00      0.00      0.00        43\n",
      "             hospitals       0.00      0.00      0.00        55\n",
      "                 shops       0.00      0.00      0.00        26\n",
      "           aid_centers       0.03      0.03      0.03        60\n",
      "  other_infrastructure       0.04      0.05      0.05       228\n",
      "       weather_related       0.37      0.38      0.38      1425\n",
      "                floods       0.15      0.23      0.18       430\n",
      "                 storm       0.11      0.12      0.11       493\n",
      "                  fire       0.02      0.02      0.02        66\n",
      "            earthquake       0.20      0.14      0.17       483\n",
      "                  cold       0.06      0.05      0.05        99\n",
      "         other_weather       0.07      0.11      0.09       247\n",
      "         direct_report       0.31      0.28      0.29       986\n",
      "\n",
      "             micro avg       0.42      0.42      0.42     16320\n",
      "             macro avg       0.13      0.13      0.13     16320\n",
      "          weighted avg       0.43      0.42      0.42     16320\n",
      "           samples avg       0.54      0.57      0.45     16320\n",
      "\n",
      "\n",
      "\n",
      "---- Best Parameters: ----\n",
      "\n",
      "Best score: 0.055453\n",
      "Best estimators parameters set:\n",
      "\t clf__estimator__class_weight: balanced\n",
      "\t clf__estimator__max_depth: 20\n",
      "\t clf__estimator__n_estimators: 3000\n",
      "\t features__text_pipeline__tfidf__ngram_range: (1, 3)\n"
     ]
    }
   ],
   "source": [
    "print(\"\\nModel evaluation on third tuned RandomForestClassifier with feature selection, normalizer and RandomizedSearch ...\")\n",
    "display_results(TARGET_NAMES, y_test, randomy_better_rfc_pred, randomcv_better_rfc_model, better_rfc_param_grid)"
   ]
  },
  {
   "cell_type": "markdown",
   "metadata": {},
   "source": [
    "**Note**:<br>\n",
    "This looks much better reagarding the feature selection. The decomposition results fits to the ETL pipelines disaster category distribution diagram. So, we will do this calculation again with the <i>GridSearchCV</i> instance and the given model types."
   ]
  },
  {
   "cell_type": "code",
   "execution_count": null,
   "metadata": {},
   "outputs": [],
   "source": []
  },
  {
   "cell_type": "code",
   "execution_count": null,
   "metadata": {},
   "outputs": [],
   "source": []
  },
  {
   "cell_type": "markdown",
   "metadata": {},
   "source": [
    "### 9. Export your model as a pickle file"
   ]
  },
  {
   "cell_type": "markdown",
   "metadata": {},
   "source": [
    "Finally, having found the best model from our model selection list, we save this model with its best parameters as a pickle file. Pickle is the standard way of serialising objects in Python. With this pickle file we can deserialise our model and use it to make new predictions."
   ]
  },
  {
   "cell_type": "code",
   "execution_count": 55,
   "metadata": {},
   "outputs": [],
   "source": [
    "def save_model(model, model_filepath):\n",
    "    pickle.dump(model, open(model_filepath, \"wb\" ))"
   ]
  },
  {
   "cell_type": "code",
   "execution_count": 56,
   "metadata": {},
   "outputs": [
    {
     "name": "stdout",
     "output_type": "stream",
     "text": [
      "Saving model...\n",
      "    MODEL: classifier.p\n",
      "Best trained model saved!\n"
     ]
    }
   ],
   "source": [
    "# see train_classifier.py file\n",
    "model_filepath = \"classifier.pkl\"\n",
    "model = cv_better_rfc_model\n",
    "print('Saving model...\\n    MODEL: {}'.format(model_filepath))\n",
    "save_model(model, model_filepath)\n",
    "\n",
    "print('Best trained model saved!')"
   ]
  },
  {
   "cell_type": "markdown",
   "metadata": {},
   "source": [
    "### 10. Use this notebook to complete `train_classifier.py`\n",
    "Use the template file attached in the Resources folder to write a script that runs the steps above to create a database and export a model based on a new dataset specified by the user."
   ]
  },
  {
   "cell_type": "code",
   "execution_count": null,
   "metadata": {},
   "outputs": [],
   "source": []
  }
 ],
 "metadata": {
  "kernelspec": {
   "display_name": "Python 3",
   "language": "python",
   "name": "python3"
  },
  "language_info": {
   "codemirror_mode": {
    "name": "ipython",
    "version": 3
   },
   "file_extension": ".py",
   "mimetype": "text/x-python",
   "name": "python",
   "nbconvert_exporter": "python",
   "pygments_lexer": "ipython3",
   "version": "3.7.3"
  }
 },
 "nbformat": 4,
 "nbformat_minor": 2
}
